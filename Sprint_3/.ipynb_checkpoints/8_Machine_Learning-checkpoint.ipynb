{
 "cells": [
  {
   "cell_type": "code",
   "execution_count": 1,
   "id": "ccab6f1d-43de-46fa-b59a-afa331c8344b",
   "metadata": {},
   "outputs": [],
   "source": [
    "import pandas as pd\n",
    "import numpy as np\n",
    "import seaborn as sns\n",
    "import matplotlib.pyplot as plt\n",
    "from sklearn.model_selection import train_test_split\n",
    "from statsmodels.stats.outliers_influence import variance_inflation_factor\n",
    "from sklearn.preprocessing import OneHotEncoder\n",
    "from sklearn.preprocessing import StandardScaler\n",
    "from sklearn.ensemble import RandomForestClassifier\n",
    "from sklearn.metrics import accuracy_score, classification_report\n",
    "from sklearn.metrics import roc_curve, roc_auc_score\n",
    "from sklearn.metrics import confusion_matrix\n",
    "from imblearn.over_sampling import SMOTE\n",
    "from collections import Counter\n",
    "from sklearn.metrics import confusion_matrix, roc_auc_score, roc_curve, auc\n",
    "from sklearn.linear_model import LogisticRegression\n",
    "from sklearn.tree import DecisionTreeClassifier"
   ]
  },
  {
   "cell_type": "code",
   "execution_count": 2,
   "id": "944d07dd-2d26-48f1-908c-8d904e6e5647",
   "metadata": {},
   "outputs": [],
   "source": [
    "payments_train = pd.read_csv('payments_train.csv')\n",
    "payments_test = pd.read_csv('payments_test.csv')"
   ]
  },
  {
   "cell_type": "code",
   "execution_count": 3,
   "id": "5348f209-60e1-44d2-ae72-e8edf5a79f65",
   "metadata": {},
   "outputs": [
    {
     "data": {
      "text/plain": [
       "((70452, 48), (30160, 48))"
      ]
     },
     "execution_count": 3,
     "metadata": {},
     "output_type": "execute_result"
    }
   ],
   "source": [
    "payments_train.shape, payments_test.shape"
   ]
  },
  {
   "cell_type": "code",
   "execution_count": 4,
   "id": "d8247c67-b456-43bf-aa41-c44e55532588",
   "metadata": {},
   "outputs": [
    {
     "data": {
      "text/html": [
       "<div>\n",
       "<style scoped>\n",
       "    .dataframe tbody tr th:only-of-type {\n",
       "        vertical-align: middle;\n",
       "    }\n",
       "\n",
       "    .dataframe tbody tr th {\n",
       "        vertical-align: top;\n",
       "    }\n",
       "\n",
       "    .dataframe thead th {\n",
       "        text-align: right;\n",
       "    }\n",
       "</style>\n",
       "<table border=\"1\" class=\"dataframe\">\n",
       "  <thead>\n",
       "    <tr style=\"text-align: right;\">\n",
       "      <th></th>\n",
       "      <th>SK_ID_CURR</th>\n",
       "      <th>TARGET</th>\n",
       "      <th>CODE_GENDER</th>\n",
       "      <th>AMT_INCOME_TOTAL</th>\n",
       "      <th>AMT_ANNUITY_x</th>\n",
       "      <th>NAME_INCOME_TYPE</th>\n",
       "      <th>NAME_EDUCATION_TYPE</th>\n",
       "      <th>REGION_POPULATION_RELATIVE</th>\n",
       "      <th>DAYS_BIRTH</th>\n",
       "      <th>DAYS_REGISTRATION</th>\n",
       "      <th>...</th>\n",
       "      <th>NAME_YIELD_GROUP</th>\n",
       "      <th>PRODUCT_COMBINATION</th>\n",
       "      <th>DAYS_FIRST_DUE</th>\n",
       "      <th>DAYS_LAST_DUE_1ST_VERSION</th>\n",
       "      <th>DAYS_LAST_DUE</th>\n",
       "      <th>DAYS_TERMINATION</th>\n",
       "      <th>MONTHS_BALANCE</th>\n",
       "      <th>SK_DPD</th>\n",
       "      <th>SK_DPD_DEF</th>\n",
       "      <th>NUM_INSTALMENT_NUMBER</th>\n",
       "    </tr>\n",
       "  </thead>\n",
       "  <tbody>\n",
       "    <tr>\n",
       "      <th>0</th>\n",
       "      <td>184029</td>\n",
       "      <td>0</td>\n",
       "      <td>F</td>\n",
       "      <td>337500.0</td>\n",
       "      <td>47313.0</td>\n",
       "      <td>Working</td>\n",
       "      <td>Higher education</td>\n",
       "      <td>0.010147</td>\n",
       "      <td>-20469</td>\n",
       "      <td>-5102.0</td>\n",
       "      <td>...</td>\n",
       "      <td>middle</td>\n",
       "      <td>POS household with interest</td>\n",
       "      <td>-2101.0</td>\n",
       "      <td>-1771.0</td>\n",
       "      <td>-1801.0</td>\n",
       "      <td>-1793.0</td>\n",
       "      <td>-70.0</td>\n",
       "      <td>0.000000</td>\n",
       "      <td>0.0</td>\n",
       "      <td>9.752375</td>\n",
       "    </tr>\n",
       "    <tr>\n",
       "      <th>1</th>\n",
       "      <td>334424</td>\n",
       "      <td>0</td>\n",
       "      <td>F</td>\n",
       "      <td>135000.0</td>\n",
       "      <td>12681.0</td>\n",
       "      <td>Pensioner</td>\n",
       "      <td>Secondary / secondary special</td>\n",
       "      <td>0.006305</td>\n",
       "      <td>-21927</td>\n",
       "      <td>-632.0</td>\n",
       "      <td>...</td>\n",
       "      <td>low_normal</td>\n",
       "      <td>POS household with interest</td>\n",
       "      <td>-434.0</td>\n",
       "      <td>-104.0</td>\n",
       "      <td>-104.0</td>\n",
       "      <td>-96.0</td>\n",
       "      <td>-16.0</td>\n",
       "      <td>0.000000</td>\n",
       "      <td>0.0</td>\n",
       "      <td>6.500000</td>\n",
       "    </tr>\n",
       "    <tr>\n",
       "      <th>2</th>\n",
       "      <td>432407</td>\n",
       "      <td>0</td>\n",
       "      <td>F</td>\n",
       "      <td>225000.0</td>\n",
       "      <td>47569.5</td>\n",
       "      <td>State servant</td>\n",
       "      <td>Secondary / secondary special</td>\n",
       "      <td>0.032561</td>\n",
       "      <td>-14389</td>\n",
       "      <td>-2470.0</td>\n",
       "      <td>...</td>\n",
       "      <td>high</td>\n",
       "      <td>Cash Street: high</td>\n",
       "      <td>-1473.5</td>\n",
       "      <td>-843.5</td>\n",
       "      <td>90312.0</td>\n",
       "      <td>90315.0</td>\n",
       "      <td>-71.0</td>\n",
       "      <td>0.347826</td>\n",
       "      <td>0.0</td>\n",
       "      <td>9.752375</td>\n",
       "    </tr>\n",
       "    <tr>\n",
       "      <th>3</th>\n",
       "      <td>259337</td>\n",
       "      <td>0</td>\n",
       "      <td>F</td>\n",
       "      <td>139500.0</td>\n",
       "      <td>20214.0</td>\n",
       "      <td>Working</td>\n",
       "      <td>Secondary / secondary special</td>\n",
       "      <td>0.030755</td>\n",
       "      <td>-17047</td>\n",
       "      <td>-3103.0</td>\n",
       "      <td>...</td>\n",
       "      <td>other</td>\n",
       "      <td>POS household with interest</td>\n",
       "      <td>-880.5</td>\n",
       "      <td>13500.0</td>\n",
       "      <td>90874.0</td>\n",
       "      <td>90876.5</td>\n",
       "      <td>-56.0</td>\n",
       "      <td>0.000000</td>\n",
       "      <td>0.0</td>\n",
       "      <td>9.752375</td>\n",
       "    </tr>\n",
       "    <tr>\n",
       "      <th>4</th>\n",
       "      <td>279599</td>\n",
       "      <td>0</td>\n",
       "      <td>M</td>\n",
       "      <td>157500.0</td>\n",
       "      <td>38686.5</td>\n",
       "      <td>Working</td>\n",
       "      <td>Secondary / secondary special</td>\n",
       "      <td>0.015221</td>\n",
       "      <td>-13100</td>\n",
       "      <td>-3846.0</td>\n",
       "      <td>...</td>\n",
       "      <td>middle</td>\n",
       "      <td>POS industry with interest</td>\n",
       "      <td>-538.0</td>\n",
       "      <td>-208.0</td>\n",
       "      <td>-268.0</td>\n",
       "      <td>-266.0</td>\n",
       "      <td>-18.0</td>\n",
       "      <td>0.000000</td>\n",
       "      <td>0.0</td>\n",
       "      <td>5.500000</td>\n",
       "    </tr>\n",
       "  </tbody>\n",
       "</table>\n",
       "<p>5 rows × 48 columns</p>\n",
       "</div>"
      ],
      "text/plain": [
       "   SK_ID_CURR  TARGET CODE_GENDER  AMT_INCOME_TOTAL  AMT_ANNUITY_x  \\\n",
       "0      184029       0           F          337500.0        47313.0   \n",
       "1      334424       0           F          135000.0        12681.0   \n",
       "2      432407       0           F          225000.0        47569.5   \n",
       "3      259337       0           F          139500.0        20214.0   \n",
       "4      279599       0           M          157500.0        38686.5   \n",
       "\n",
       "  NAME_INCOME_TYPE            NAME_EDUCATION_TYPE  REGION_POPULATION_RELATIVE  \\\n",
       "0          Working               Higher education                    0.010147   \n",
       "1        Pensioner  Secondary / secondary special                    0.006305   \n",
       "2    State servant  Secondary / secondary special                    0.032561   \n",
       "3          Working  Secondary / secondary special                    0.030755   \n",
       "4          Working  Secondary / secondary special                    0.015221   \n",
       "\n",
       "   DAYS_BIRTH  DAYS_REGISTRATION  ...  NAME_YIELD_GROUP  \\\n",
       "0      -20469            -5102.0  ...            middle   \n",
       "1      -21927             -632.0  ...        low_normal   \n",
       "2      -14389            -2470.0  ...              high   \n",
       "3      -17047            -3103.0  ...             other   \n",
       "4      -13100            -3846.0  ...            middle   \n",
       "\n",
       "           PRODUCT_COMBINATION  DAYS_FIRST_DUE DAYS_LAST_DUE_1ST_VERSION  \\\n",
       "0  POS household with interest         -2101.0                   -1771.0   \n",
       "1  POS household with interest          -434.0                    -104.0   \n",
       "2            Cash Street: high         -1473.5                    -843.5   \n",
       "3  POS household with interest          -880.5                   13500.0   \n",
       "4   POS industry with interest          -538.0                    -208.0   \n",
       "\n",
       "   DAYS_LAST_DUE DAYS_TERMINATION  MONTHS_BALANCE    SK_DPD  SK_DPD_DEF  \\\n",
       "0        -1801.0          -1793.0           -70.0  0.000000         0.0   \n",
       "1         -104.0            -96.0           -16.0  0.000000         0.0   \n",
       "2        90312.0          90315.0           -71.0  0.347826         0.0   \n",
       "3        90874.0          90876.5           -56.0  0.000000         0.0   \n",
       "4         -268.0           -266.0           -18.0  0.000000         0.0   \n",
       "\n",
       "   NUM_INSTALMENT_NUMBER  \n",
       "0               9.752375  \n",
       "1               6.500000  \n",
       "2               9.752375  \n",
       "3               9.752375  \n",
       "4               5.500000  \n",
       "\n",
       "[5 rows x 48 columns]"
      ]
     },
     "execution_count": 4,
     "metadata": {},
     "output_type": "execute_result"
    }
   ],
   "source": [
    "payments_train.head()"
   ]
  },
  {
   "cell_type": "code",
   "execution_count": 5,
   "id": "8c778ec0-877a-4799-87b2-d08de859731f",
   "metadata": {},
   "outputs": [
    {
     "data": {
      "text/html": [
       "<div>\n",
       "<style scoped>\n",
       "    .dataframe tbody tr th:only-of-type {\n",
       "        vertical-align: middle;\n",
       "    }\n",
       "\n",
       "    .dataframe tbody tr th {\n",
       "        vertical-align: top;\n",
       "    }\n",
       "\n",
       "    .dataframe thead th {\n",
       "        text-align: right;\n",
       "    }\n",
       "</style>\n",
       "<table border=\"1\" class=\"dataframe\">\n",
       "  <thead>\n",
       "    <tr style=\"text-align: right;\">\n",
       "      <th></th>\n",
       "      <th>SK_ID_CURR</th>\n",
       "      <th>TARGET</th>\n",
       "      <th>CODE_GENDER</th>\n",
       "      <th>AMT_INCOME_TOTAL</th>\n",
       "      <th>AMT_ANNUITY_x</th>\n",
       "      <th>NAME_INCOME_TYPE</th>\n",
       "      <th>NAME_EDUCATION_TYPE</th>\n",
       "      <th>REGION_POPULATION_RELATIVE</th>\n",
       "      <th>DAYS_BIRTH</th>\n",
       "      <th>DAYS_REGISTRATION</th>\n",
       "      <th>...</th>\n",
       "      <th>NAME_YIELD_GROUP</th>\n",
       "      <th>PRODUCT_COMBINATION</th>\n",
       "      <th>DAYS_FIRST_DUE</th>\n",
       "      <th>DAYS_LAST_DUE_1ST_VERSION</th>\n",
       "      <th>DAYS_LAST_DUE</th>\n",
       "      <th>DAYS_TERMINATION</th>\n",
       "      <th>MONTHS_BALANCE</th>\n",
       "      <th>SK_DPD</th>\n",
       "      <th>SK_DPD_DEF</th>\n",
       "      <th>NUM_INSTALMENT_NUMBER</th>\n",
       "    </tr>\n",
       "  </thead>\n",
       "  <tbody>\n",
       "    <tr>\n",
       "      <th>0</th>\n",
       "      <td>384575</td>\n",
       "      <td>0</td>\n",
       "      <td>M</td>\n",
       "      <td>207000.0</td>\n",
       "      <td>52641.0</td>\n",
       "      <td>Commercial associate</td>\n",
       "      <td>Secondary / secondary special</td>\n",
       "      <td>0.009630</td>\n",
       "      <td>-13297</td>\n",
       "      <td>-637.0</td>\n",
       "      <td>...</td>\n",
       "      <td>other</td>\n",
       "      <td>Card Street</td>\n",
       "      <td>-2104.5</td>\n",
       "      <td>-1804.5</td>\n",
       "      <td>-1804.5</td>\n",
       "      <td>-1796.00</td>\n",
       "      <td>-57.0</td>\n",
       "      <td>0.000000</td>\n",
       "      <td>0.000000</td>\n",
       "      <td>9.444340</td>\n",
       "    </tr>\n",
       "    <tr>\n",
       "      <th>1</th>\n",
       "      <td>233043</td>\n",
       "      <td>0</td>\n",
       "      <td>F</td>\n",
       "      <td>130500.0</td>\n",
       "      <td>34443.0</td>\n",
       "      <td>Pensioner</td>\n",
       "      <td>Secondary / secondary special</td>\n",
       "      <td>0.022800</td>\n",
       "      <td>-23516</td>\n",
       "      <td>-1663.0</td>\n",
       "      <td>...</td>\n",
       "      <td>other</td>\n",
       "      <td>Cash</td>\n",
       "      <td>-1530.6</td>\n",
       "      <td>-1170.6</td>\n",
       "      <td>-1218.6</td>\n",
       "      <td>-1212.80</td>\n",
       "      <td>-57.0</td>\n",
       "      <td>0.000000</td>\n",
       "      <td>0.000000</td>\n",
       "      <td>9.444340</td>\n",
       "    </tr>\n",
       "    <tr>\n",
       "      <th>2</th>\n",
       "      <td>134561</td>\n",
       "      <td>1</td>\n",
       "      <td>F</td>\n",
       "      <td>67500.0</td>\n",
       "      <td>17077.5</td>\n",
       "      <td>Commercial associate</td>\n",
       "      <td>Secondary / secondary special</td>\n",
       "      <td>0.006305</td>\n",
       "      <td>-13280</td>\n",
       "      <td>-3471.0</td>\n",
       "      <td>...</td>\n",
       "      <td>high</td>\n",
       "      <td>POS household with interest</td>\n",
       "      <td>-774.5</td>\n",
       "      <td>-534.5</td>\n",
       "      <td>-684.5</td>\n",
       "      <td>-677.50</td>\n",
       "      <td>-57.0</td>\n",
       "      <td>0.000000</td>\n",
       "      <td>0.000000</td>\n",
       "      <td>9.444340</td>\n",
       "    </tr>\n",
       "    <tr>\n",
       "      <th>3</th>\n",
       "      <td>188909</td>\n",
       "      <td>0</td>\n",
       "      <td>F</td>\n",
       "      <td>270000.0</td>\n",
       "      <td>17122.5</td>\n",
       "      <td>Pensioner</td>\n",
       "      <td>Secondary / secondary special</td>\n",
       "      <td>0.005144</td>\n",
       "      <td>-22532</td>\n",
       "      <td>-10231.0</td>\n",
       "      <td>...</td>\n",
       "      <td>low_normal</td>\n",
       "      <td>Card X-Sell</td>\n",
       "      <td>-736.0</td>\n",
       "      <td>13500.0</td>\n",
       "      <td>182422.5</td>\n",
       "      <td>182425.75</td>\n",
       "      <td>-36.0</td>\n",
       "      <td>0.068966</td>\n",
       "      <td>0.068966</td>\n",
       "      <td>16.019802</td>\n",
       "    </tr>\n",
       "    <tr>\n",
       "      <th>4</th>\n",
       "      <td>347275</td>\n",
       "      <td>0</td>\n",
       "      <td>M</td>\n",
       "      <td>427500.0</td>\n",
       "      <td>36292.5</td>\n",
       "      <td>Commercial associate</td>\n",
       "      <td>Secondary / secondary special</td>\n",
       "      <td>0.014520</td>\n",
       "      <td>-16758</td>\n",
       "      <td>-80.0</td>\n",
       "      <td>...</td>\n",
       "      <td>low_action</td>\n",
       "      <td>POS household with interest</td>\n",
       "      <td>-687.0</td>\n",
       "      <td>3.0</td>\n",
       "      <td>-147.0</td>\n",
       "      <td>-145.00</td>\n",
       "      <td>-23.0</td>\n",
       "      <td>0.000000</td>\n",
       "      <td>0.000000</td>\n",
       "      <td>9.444340</td>\n",
       "    </tr>\n",
       "  </tbody>\n",
       "</table>\n",
       "<p>5 rows × 48 columns</p>\n",
       "</div>"
      ],
      "text/plain": [
       "   SK_ID_CURR  TARGET CODE_GENDER  AMT_INCOME_TOTAL  AMT_ANNUITY_x  \\\n",
       "0      384575       0           M          207000.0        52641.0   \n",
       "1      233043       0           F          130500.0        34443.0   \n",
       "2      134561       1           F           67500.0        17077.5   \n",
       "3      188909       0           F          270000.0        17122.5   \n",
       "4      347275       0           M          427500.0        36292.5   \n",
       "\n",
       "       NAME_INCOME_TYPE            NAME_EDUCATION_TYPE  \\\n",
       "0  Commercial associate  Secondary / secondary special   \n",
       "1             Pensioner  Secondary / secondary special   \n",
       "2  Commercial associate  Secondary / secondary special   \n",
       "3             Pensioner  Secondary / secondary special   \n",
       "4  Commercial associate  Secondary / secondary special   \n",
       "\n",
       "   REGION_POPULATION_RELATIVE  DAYS_BIRTH  DAYS_REGISTRATION  ...  \\\n",
       "0                    0.009630      -13297             -637.0  ...   \n",
       "1                    0.022800      -23516            -1663.0  ...   \n",
       "2                    0.006305      -13280            -3471.0  ...   \n",
       "3                    0.005144      -22532           -10231.0  ...   \n",
       "4                    0.014520      -16758              -80.0  ...   \n",
       "\n",
       "   NAME_YIELD_GROUP          PRODUCT_COMBINATION  DAYS_FIRST_DUE  \\\n",
       "0             other                  Card Street         -2104.5   \n",
       "1             other                         Cash         -1530.6   \n",
       "2              high  POS household with interest          -774.5   \n",
       "3        low_normal                  Card X-Sell          -736.0   \n",
       "4        low_action  POS household with interest          -687.0   \n",
       "\n",
       "  DAYS_LAST_DUE_1ST_VERSION  DAYS_LAST_DUE DAYS_TERMINATION  MONTHS_BALANCE  \\\n",
       "0                   -1804.5        -1804.5         -1796.00           -57.0   \n",
       "1                   -1170.6        -1218.6         -1212.80           -57.0   \n",
       "2                    -534.5         -684.5          -677.50           -57.0   \n",
       "3                   13500.0       182422.5        182425.75           -36.0   \n",
       "4                       3.0         -147.0          -145.00           -23.0   \n",
       "\n",
       "     SK_DPD  SK_DPD_DEF  NUM_INSTALMENT_NUMBER  \n",
       "0  0.000000    0.000000               9.444340  \n",
       "1  0.000000    0.000000               9.444340  \n",
       "2  0.000000    0.000000               9.444340  \n",
       "3  0.068966    0.068966              16.019802  \n",
       "4  0.000000    0.000000               9.444340  \n",
       "\n",
       "[5 rows x 48 columns]"
      ]
     },
     "execution_count": 5,
     "metadata": {},
     "output_type": "execute_result"
    }
   ],
   "source": [
    "payments_test.head()"
   ]
  },
  {
   "cell_type": "markdown",
   "id": "da1b308c-54fa-497b-8b65-d330e3f7fc49",
   "metadata": {
    "jp-MarkdownHeadingCollapsed": true
   },
   "source": [
    "# Análise Variaveis"
   ]
  },
  {
   "cell_type": "code",
   "execution_count": 6,
   "id": "c1832a42-281b-4b78-9885-1dd4f2fdce38",
   "metadata": {
    "scrolled": true
   },
   "outputs": [
    {
     "data": {
      "text/plain": [
       "SK_ID_CURR                    0\n",
       "TARGET                        0\n",
       "CODE_GENDER                   0\n",
       "AMT_INCOME_TOTAL              0\n",
       "AMT_ANNUITY_x                 0\n",
       "NAME_INCOME_TYPE              0\n",
       "NAME_EDUCATION_TYPE           0\n",
       "REGION_POPULATION_RELATIVE    0\n",
       "DAYS_BIRTH                    0\n",
       "DAYS_REGISTRATION             0\n",
       "DAYS_ID_PUBLISH               0\n",
       "FLAG_EMP_PHONE                0\n",
       "REG_CITY_NOT_WORK_CITY        0\n",
       "ORGANIZATION_TYPE             0\n",
       "FLAG_DOCUMENT_3               0\n",
       "CREDIT_ACTIVE                 0\n",
       "DAYS_CREDIT                   0\n",
       "CREDIT_DAY_OVERDUE            0\n",
       "DAYS_CREDIT_ENDDATE           0\n",
       "DAYS_ENDDATE_FACT             0\n",
       "AMT_CREDIT_SUM                0\n",
       "AMT_CREDIT_SUM_DEBT           0\n",
       "AMT_CREDIT_SUM_LIMIT          0\n",
       "DAYS_CREDIT_UPDATE            0\n",
       "SK_ID_PREV                    0\n",
       "NAME_CONTRACT_TYPE            0\n",
       "AMT_ANNUITY_y                 0\n",
       "AMT_CREDIT_y                  0\n",
       "AMT_GOODS_PRICE_y             0\n",
       "HOUR_APPR_PROCESS_START       0\n",
       "NAME_CONTRACT_STATUS_x        0\n",
       "DAYS_DECISION                 0\n",
       "CODE_REJECT_REASON            0\n",
       "NAME_GOODS_CATEGORY           0\n",
       "CHANNEL_TYPE                  0\n",
       "SELLERPLACE_AREA              0\n",
       "NAME_SELLER_INDUSTRY          0\n",
       "CNT_PAYMENT                   0\n",
       "NAME_YIELD_GROUP              0\n",
       "PRODUCT_COMBINATION           0\n",
       "DAYS_FIRST_DUE                0\n",
       "DAYS_LAST_DUE_1ST_VERSION     0\n",
       "DAYS_LAST_DUE                 0\n",
       "DAYS_TERMINATION              0\n",
       "MONTHS_BALANCE                0\n",
       "SK_DPD                        0\n",
       "SK_DPD_DEF                    0\n",
       "NUM_INSTALMENT_NUMBER         0\n",
       "dtype: int64"
      ]
     },
     "execution_count": 6,
     "metadata": {},
     "output_type": "execute_result"
    }
   ],
   "source": [
    "payments_train.isnull().sum()"
   ]
  },
  {
   "cell_type": "code",
   "execution_count": 7,
   "id": "e61a32ab-c336-48c3-85c8-dc38fafed67a",
   "metadata": {
    "scrolled": true
   },
   "outputs": [
    {
     "data": {
      "text/plain": [
       "SK_ID_CURR                    0\n",
       "TARGET                        0\n",
       "CODE_GENDER                   0\n",
       "AMT_INCOME_TOTAL              0\n",
       "AMT_ANNUITY_x                 0\n",
       "NAME_INCOME_TYPE              0\n",
       "NAME_EDUCATION_TYPE           0\n",
       "REGION_POPULATION_RELATIVE    0\n",
       "DAYS_BIRTH                    0\n",
       "DAYS_REGISTRATION             0\n",
       "DAYS_ID_PUBLISH               0\n",
       "FLAG_EMP_PHONE                0\n",
       "REG_CITY_NOT_WORK_CITY        0\n",
       "ORGANIZATION_TYPE             0\n",
       "FLAG_DOCUMENT_3               0\n",
       "CREDIT_ACTIVE                 0\n",
       "DAYS_CREDIT                   0\n",
       "CREDIT_DAY_OVERDUE            0\n",
       "DAYS_CREDIT_ENDDATE           0\n",
       "DAYS_ENDDATE_FACT             0\n",
       "AMT_CREDIT_SUM                0\n",
       "AMT_CREDIT_SUM_DEBT           0\n",
       "AMT_CREDIT_SUM_LIMIT          0\n",
       "DAYS_CREDIT_UPDATE            0\n",
       "SK_ID_PREV                    0\n",
       "NAME_CONTRACT_TYPE            0\n",
       "AMT_ANNUITY_y                 0\n",
       "AMT_CREDIT_y                  0\n",
       "AMT_GOODS_PRICE_y             0\n",
       "HOUR_APPR_PROCESS_START       0\n",
       "NAME_CONTRACT_STATUS_x        0\n",
       "DAYS_DECISION                 0\n",
       "CODE_REJECT_REASON            0\n",
       "NAME_GOODS_CATEGORY           0\n",
       "CHANNEL_TYPE                  0\n",
       "SELLERPLACE_AREA              0\n",
       "NAME_SELLER_INDUSTRY          0\n",
       "CNT_PAYMENT                   0\n",
       "NAME_YIELD_GROUP              0\n",
       "PRODUCT_COMBINATION           0\n",
       "DAYS_FIRST_DUE                0\n",
       "DAYS_LAST_DUE_1ST_VERSION     0\n",
       "DAYS_LAST_DUE                 0\n",
       "DAYS_TERMINATION              0\n",
       "MONTHS_BALANCE                0\n",
       "SK_DPD                        0\n",
       "SK_DPD_DEF                    0\n",
       "NUM_INSTALMENT_NUMBER         0\n",
       "dtype: int64"
      ]
     },
     "execution_count": 7,
     "metadata": {},
     "output_type": "execute_result"
    }
   ],
   "source": [
    "payments_test.isnull().sum()"
   ]
  },
  {
   "cell_type": "markdown",
   "id": "97500922-de73-4d27-b6c4-7a403a98ee55",
   "metadata": {},
   "source": [
    "## Nulos"
   ]
  },
  {
   "cell_type": "code",
   "execution_count": 8,
   "id": "cd5ed655-7bf6-4a56-bb0a-a610f6fc05a1",
   "metadata": {},
   "outputs": [
    {
     "data": {
      "text/plain": [
       "(30160, 48)"
      ]
     },
     "execution_count": 8,
     "metadata": {},
     "output_type": "execute_result"
    }
   ],
   "source": [
    "payments_test.shape"
   ]
  },
  {
   "cell_type": "code",
   "execution_count": 9,
   "id": "a8431396-e3c1-4e3f-a4dd-1111bcdb82db",
   "metadata": {},
   "outputs": [
    {
     "data": {
      "text/plain": [
       "SK_ID_CURR                    0\n",
       "TARGET                        0\n",
       "CODE_GENDER                   0\n",
       "AMT_INCOME_TOTAL              0\n",
       "AMT_ANNUITY_x                 0\n",
       "NAME_INCOME_TYPE              0\n",
       "NAME_EDUCATION_TYPE           0\n",
       "REGION_POPULATION_RELATIVE    0\n",
       "DAYS_BIRTH                    0\n",
       "DAYS_REGISTRATION             0\n",
       "DAYS_ID_PUBLISH               0\n",
       "FLAG_EMP_PHONE                0\n",
       "REG_CITY_NOT_WORK_CITY        0\n",
       "ORGANIZATION_TYPE             0\n",
       "FLAG_DOCUMENT_3               0\n",
       "CREDIT_ACTIVE                 0\n",
       "DAYS_CREDIT                   0\n",
       "CREDIT_DAY_OVERDUE            0\n",
       "DAYS_CREDIT_ENDDATE           0\n",
       "DAYS_ENDDATE_FACT             0\n",
       "AMT_CREDIT_SUM                0\n",
       "AMT_CREDIT_SUM_DEBT           0\n",
       "AMT_CREDIT_SUM_LIMIT          0\n",
       "DAYS_CREDIT_UPDATE            0\n",
       "SK_ID_PREV                    0\n",
       "NAME_CONTRACT_TYPE            0\n",
       "AMT_ANNUITY_y                 0\n",
       "AMT_CREDIT_y                  0\n",
       "AMT_GOODS_PRICE_y             0\n",
       "HOUR_APPR_PROCESS_START       0\n",
       "NAME_CONTRACT_STATUS_x        0\n",
       "DAYS_DECISION                 0\n",
       "CODE_REJECT_REASON            0\n",
       "NAME_GOODS_CATEGORY           0\n",
       "CHANNEL_TYPE                  0\n",
       "SELLERPLACE_AREA              0\n",
       "NAME_SELLER_INDUSTRY          0\n",
       "CNT_PAYMENT                   0\n",
       "NAME_YIELD_GROUP              0\n",
       "PRODUCT_COMBINATION           0\n",
       "DAYS_FIRST_DUE                0\n",
       "DAYS_LAST_DUE_1ST_VERSION     0\n",
       "DAYS_LAST_DUE                 0\n",
       "DAYS_TERMINATION              0\n",
       "MONTHS_BALANCE                0\n",
       "SK_DPD                        0\n",
       "SK_DPD_DEF                    0\n",
       "NUM_INSTALMENT_NUMBER         0\n",
       "dtype: int64"
      ]
     },
     "execution_count": 9,
     "metadata": {},
     "output_type": "execute_result"
    }
   ],
   "source": [
    "payments_test.isnull().sum()"
   ]
  },
  {
   "cell_type": "code",
   "execution_count": 10,
   "id": "df9bb7bb-b997-4403-932a-c0be6072e08c",
   "metadata": {},
   "outputs": [
    {
     "data": {
      "text/plain": [
       "Index(['SK_ID_CURR', 'TARGET', 'CODE_GENDER', 'AMT_INCOME_TOTAL',\n",
       "       'AMT_ANNUITY_x', 'NAME_INCOME_TYPE', 'NAME_EDUCATION_TYPE',\n",
       "       'REGION_POPULATION_RELATIVE', 'DAYS_BIRTH', 'DAYS_REGISTRATION',\n",
       "       'DAYS_ID_PUBLISH', 'FLAG_EMP_PHONE', 'REG_CITY_NOT_WORK_CITY',\n",
       "       'ORGANIZATION_TYPE', 'FLAG_DOCUMENT_3', 'CREDIT_ACTIVE', 'DAYS_CREDIT',\n",
       "       'CREDIT_DAY_OVERDUE', 'DAYS_CREDIT_ENDDATE', 'DAYS_ENDDATE_FACT',\n",
       "       'AMT_CREDIT_SUM', 'AMT_CREDIT_SUM_DEBT', 'AMT_CREDIT_SUM_LIMIT',\n",
       "       'DAYS_CREDIT_UPDATE', 'SK_ID_PREV', 'NAME_CONTRACT_TYPE',\n",
       "       'AMT_ANNUITY_y', 'AMT_CREDIT_y', 'AMT_GOODS_PRICE_y',\n",
       "       'HOUR_APPR_PROCESS_START', 'NAME_CONTRACT_STATUS_x', 'DAYS_DECISION',\n",
       "       'CODE_REJECT_REASON', 'NAME_GOODS_CATEGORY', 'CHANNEL_TYPE',\n",
       "       'SELLERPLACE_AREA', 'NAME_SELLER_INDUSTRY', 'CNT_PAYMENT',\n",
       "       'NAME_YIELD_GROUP', 'PRODUCT_COMBINATION', 'DAYS_FIRST_DUE',\n",
       "       'DAYS_LAST_DUE_1ST_VERSION', 'DAYS_LAST_DUE', 'DAYS_TERMINATION',\n",
       "       'MONTHS_BALANCE', 'SK_DPD', 'SK_DPD_DEF', 'NUM_INSTALMENT_NUMBER'],\n",
       "      dtype='object')"
      ]
     },
     "execution_count": 10,
     "metadata": {},
     "output_type": "execute_result"
    }
   ],
   "source": [
    "payments_train.columns"
   ]
  },
  {
   "cell_type": "code",
   "execution_count": 11,
   "id": "7d6762d8-6ac8-4ae4-9ec6-38596610efee",
   "metadata": {},
   "outputs": [
    {
     "data": {
      "text/plain": [
       "((70452, 46), (30160, 46))"
      ]
     },
     "execution_count": 11,
     "metadata": {},
     "output_type": "execute_result"
    }
   ],
   "source": [
    "payments_train = payments_train.drop(['SK_ID_CURR', 'SK_ID_PREV'], axis=1)\n",
    "payments_test = payments_test.drop(['SK_ID_CURR', 'SK_ID_PREV'], axis=1)\n",
    "\n",
    "payments_train.shape, payments_test.shape"
   ]
  },
  {
   "cell_type": "markdown",
   "id": "ee783932-3589-490c-8a0a-a3657165b36a",
   "metadata": {
    "jp-MarkdownHeadingCollapsed": true
   },
   "source": [
    "# OneHotEncoder"
   ]
  },
  {
   "cell_type": "code",
   "execution_count": 12,
   "id": "6de6952f-ed29-4794-a4ec-936e05a40c73",
   "metadata": {},
   "outputs": [],
   "source": [
    "# Definindo as colunas categóricas\n",
    "categorical_cols = [\n",
    "    'CODE_GENDER', 'NAME_INCOME_TYPE', 'NAME_EDUCATION_TYPE',\n",
    "    'ORGANIZATION_TYPE', 'CREDIT_ACTIVE', 'NAME_CONTRACT_TYPE',\n",
    "    'NAME_CONTRACT_STATUS_x', 'CODE_REJECT_REASON',\n",
    "    'NAME_GOODS_CATEGORY', 'CHANNEL_TYPE', 'NAME_SELLER_INDUSTRY',\n",
    "    'NAME_YIELD_GROUP', 'PRODUCT_COMBINATION'\n",
    "]\n",
    "\n",
    "# Inicializando o OneHotEncoder\n",
    "encoder = OneHotEncoder(drop='first', handle_unknown='ignore')\n",
    "\n",
    "# Aplicando o OneHotEncoder\n",
    "encoded_train = encoder.fit_transform(payments_train[categorical_cols]).toarray()\n",
    "\n",
    "# Criando um DataFrame com as colunas codificadas\n",
    "encoded_train_df = pd.DataFrame(encoded_train, columns=encoder.get_feature_names_out(categorical_cols))\n",
    "\n",
    "# Concatenando com o DataFrame original, excluindo as colunas categóricas originais\n",
    "payments_train_encoded = pd.concat([payments_train.reset_index(drop=True), encoded_train_df.reset_index(drop=True)], axis=1)\n",
    "payments_train_encoded.drop(columns=categorical_cols, inplace=True)"
   ]
  },
  {
   "cell_type": "code",
   "execution_count": 13,
   "id": "94ef505e-99b1-4563-a7ef-a671d3949202",
   "metadata": {},
   "outputs": [
    {
     "data": {
      "text/plain": [
       "(70452, 173)"
      ]
     },
     "execution_count": 13,
     "metadata": {},
     "output_type": "execute_result"
    }
   ],
   "source": [
    "payments_train_encoded.shape"
   ]
  },
  {
   "cell_type": "code",
   "execution_count": 14,
   "id": "cd357bd7-b213-420f-becc-c4408d17fa8f",
   "metadata": {},
   "outputs": [],
   "source": [
    "# Definindo as colunas categóricas\n",
    "categorical_cols = [\n",
    "    'CODE_GENDER', 'NAME_INCOME_TYPE', 'NAME_EDUCATION_TYPE',\n",
    "    'ORGANIZATION_TYPE', 'CREDIT_ACTIVE', 'NAME_CONTRACT_TYPE',\n",
    "    'NAME_CONTRACT_STATUS_x', 'CODE_REJECT_REASON',\n",
    "    'NAME_GOODS_CATEGORY', 'CHANNEL_TYPE', 'NAME_SELLER_INDUSTRY',\n",
    "    'NAME_YIELD_GROUP', 'PRODUCT_COMBINATION'\n",
    "]\n",
    "\n",
    "# Inicializando o OneHotEncoder\n",
    "encoder = OneHotEncoder(drop='first', handle_unknown='ignore')\n",
    "\n",
    "# Aplicando o OneHotEncoder\n",
    "encoded_test = encoder.fit_transform(payments_test[categorical_cols]).toarray()\n",
    "\n",
    "# Criando um DataFrame com as colunas codificadas\n",
    "encoded_test_df = pd.DataFrame(encoded_test, columns=encoder.get_feature_names_out(categorical_cols))\n",
    "\n",
    "# Concatenando com o DataFrame original, excluindo as colunas categóricas originais\n",
    "payments_test_encoded = pd.concat([payments_test.reset_index(drop=True), encoded_test_df.reset_index(drop=True)], axis=1)\n",
    "payments_test_encoded.drop(columns=categorical_cols, inplace=True)"
   ]
  },
  {
   "cell_type": "code",
   "execution_count": 15,
   "id": "0bbc72d5-c5ee-463c-ae01-db5eaddd20a0",
   "metadata": {},
   "outputs": [
    {
     "data": {
      "text/plain": [
       "(30160, 173)"
      ]
     },
     "execution_count": 15,
     "metadata": {},
     "output_type": "execute_result"
    }
   ],
   "source": [
    "payments_test_encoded.shape"
   ]
  },
  {
   "cell_type": "markdown",
   "id": "52a5bd9d-f7fa-4ec2-af45-154c71c74a62",
   "metadata": {
    "jp-MarkdownHeadingCollapsed": true
   },
   "source": [
    "# Information Value (IV)"
   ]
  },
  {
   "cell_type": "code",
   "execution_count": 16,
   "id": "f36ce335-eec2-4982-aaf6-d4d5ff232c6a",
   "metadata": {},
   "outputs": [
    {
     "name": "stdout",
     "output_type": "stream",
     "text": [
      "Variaveis menos importantes com base no IV:\n",
      "NAME_GOODS_CATEGORY_Other: 0.018142197167156444\n",
      "CODE_REJECT_REASON_HC: 0.01798462411466706\n",
      "NAME_YIELD_GROUP_other: 0.017392694746805923\n",
      "NAME_YIELD_GROUP_low_normal: 0.015324479332054284\n",
      "NAME_SELLER_INDUSTRY_Other: 0.015238552175186219\n",
      "PRODUCT_COMBINATION_POS industry with interest: 0.013181507913079388\n",
      "NAME_GOODS_CATEGORY_Furniture: 0.012485382998982653\n",
      "NAME_INCOME_TYPE_State servant: 0.01121029473520855\n",
      "NAME_SELLER_INDUSTRY_Furniture: 0.010689434551752175\n",
      "ORGANIZATION_TYPE_Self-employed: 0.010346573746930942\n",
      "NAME_SELLER_INDUSTRY_Consumer electronics: 0.009638915247538645\n",
      "ORGANIZATION_TYPE_Business Entity Type 3: 0.009427761326254542\n",
      "CHANNEL_TYPE_Stone: 0.009045923334527067\n",
      "NAME_SELLER_INDUSTRY_Clothing: 0.008194068501786243\n",
      "PRODUCT_COMBINATION_POS household without interest: 0.007620046713922525\n",
      "NAME_GOODS_CATEGORY_Clothing and Accessories: 0.007551710765504168\n",
      "NAME_YIELD_GROUP_low_action: 0.007391013884235192\n",
      "NAME_CONTRACT_TYPE_Revolving loans: 0.007018171034319851\n",
      "NAME_CONTRACT_STATUS_x_Canceled: 0.0061415294611484005\n",
      "PRODUCT_COMBINATION_Cash X-Sell: low: 0.0058512073696639876\n",
      "CODE_REJECT_REASON_SCOFR: 0.005745446814849793\n",
      "PRODUCT_COMBINATION_POS household with interest: 0.0055314160471368005\n",
      "NAME_SELLER_INDUSTRY_Construction: 0.005253717967180159\n",
      "NAME_GOODS_CATEGORY_Consumer Electronics: 0.004916700117421014\n",
      "CHANNEL_TYPE_Credit and cash offices: 0.004823048560641802\n",
      "NAME_YIELD_GROUP_middle: 0.004679676859762211\n",
      "ORGANIZATION_TYPE_Construction: 0.00441706474027493\n",
      "PRODUCT_COMBINATION_Cash: 0.004268359360162988\n",
      "CODE_REJECT_REASON_LIMIT: 0.00421270359599539\n",
      "PRODUCT_COMBINATION_POS industry without interest: 0.0041179515992959305\n",
      "CREDIT_ACTIVE_Sold: 0.004053942958588952\n",
      "PRODUCT_COMBINATION_Cash Street: high: 0.003531505547833634\n",
      "ORGANIZATION_TYPE_Security Ministries: 0.0031497404734538246\n",
      "ORGANIZATION_TYPE_School: 0.0028449828500687322\n",
      "ORGANIZATION_TYPE_Medicine: 0.00272912881515042\n",
      "ORGANIZATION_TYPE_Transport: type 3: 0.0027158100885133324\n",
      "ORGANIZATION_TYPE_Trade: type 7: 0.002443424760889546\n",
      "ORGANIZATION_TYPE_Industry: type 3: 0.0023746401046314284\n",
      "NAME_GOODS_CATEGORY_Construction Materials: 0.0022835785634372236\n",
      "PRODUCT_COMBINATION_Cash X-Sell: high: 0.0022471909737637424\n",
      "ORGANIZATION_TYPE_Military: 0.002158630517076436\n",
      "NAME_GOODS_CATEGORY_Audio/Video: 0.002137763721443033\n",
      "NAME_SELLER_INDUSTRY_Connectivity: 0.0021127165473984215\n",
      "ORGANIZATION_TYPE_Police: 0.0020383375639880744\n",
      "ORGANIZATION_TYPE_Industry: type 1: 0.0018778090341663007\n",
      "ORGANIZATION_TYPE_Industry: type 12: 0.001760490901589776\n",
      "CHANNEL_TYPE_Regional / Local: 0.0016515787087013607\n",
      "ORGANIZATION_TYPE_Government: 0.001626662111580062\n",
      "PRODUCT_COMBINATION_POS mobile with interest: 0.0016139350984811529\n",
      "PRODUCT_COMBINATION_Cash X-Sell: middle: 0.001531210810912025\n",
      "PRODUCT_COMBINATION_Cash Street: middle: 0.0015145434641855898\n",
      "ORGANIZATION_TYPE_Trade: type 3: 0.0013474794105486254\n",
      "ORGANIZATION_TYPE_Bank: 0.0013299021825505888\n",
      "ORGANIZATION_TYPE_Restaurant: 0.0013063004112855016\n",
      "ORGANIZATION_TYPE_Legal Services: 0.001292021654879337\n",
      "PRODUCT_COMBINATION_Card X-Sell: 0.0011153009682267647\n",
      "CHANNEL_TYPE_Country-wide: 0.0009980781617229266\n",
      "ORGANIZATION_TYPE_Security: 0.0008977794055924545\n",
      "ORGANIZATION_TYPE_Agriculture: 0.000792462757741602\n",
      "NAME_GOODS_CATEGORY_Office Appliances: 0.000734574329679608\n",
      "ORGANIZATION_TYPE_Transport: type 4: 0.0007272020998469535\n",
      "ORGANIZATION_TYPE_University: 0.0007049373750180765\n",
      "CHANNEL_TYPE_Channel of corporate sales: 0.0006504309568504719\n",
      "ORGANIZATION_TYPE_Services: 0.0006460718917718554\n",
      "ORGANIZATION_TYPE_Kindergarten: 0.0006161317298274407\n",
      "ORGANIZATION_TYPE_Telecom: 0.0005651953897327284\n",
      "ORGANIZATION_TYPE_Trade: type 6: 0.0005602876065508739\n",
      "NAME_GOODS_CATEGORY_Mobile: 0.0005213964388803701\n",
      "NAME_GOODS_CATEGORY_Photo / Cinema Equipment: 0.0004980483745018255\n",
      "ORGANIZATION_TYPE_Realtor: 0.00046568367414257346\n",
      "NAME_SELLER_INDUSTRY_Industry: 0.00044501378649279734\n",
      "ORGANIZATION_TYPE_Business Entity Type 1: 0.0004027591639357584\n",
      "NAME_GOODS_CATEGORY_Tourism: 0.0004005237757246224\n",
      "NAME_GOODS_CATEGORY_Gardening: 0.00039917136495686245\n",
      "NAME_GOODS_CATEGORY_Medicine: 0.0003949768114231525\n",
      "NAME_GOODS_CATEGORY_Medical Supplies: 0.0003839154007614927\n",
      "ORGANIZATION_TYPE_Mobile: 0.00034863200139410134\n",
      "NAME_GOODS_CATEGORY_Auto Accessories: 0.00033309032521813706\n",
      "NAME_GOODS_CATEGORY_Homewares: 0.0003189533981166084\n",
      "NAME_SELLER_INDUSTRY_Jewelry: 0.00031272834812191814\n",
      "NAME_GOODS_CATEGORY_Insurance: 0.0002941554441159098\n",
      "NAME_GOODS_CATEGORY_Weapon: 0.0002941554441159098\n",
      "CODE_REJECT_REASON_SCO: 0.0002616113067701115\n",
      "NAME_GOODS_CATEGORY_Vehicles: 0.0002388855714707241\n",
      "ORGANIZATION_TYPE_Culture: 0.0001988465248913699\n",
      "ORGANIZATION_TYPE_Transport: type 1: 0.00019738415043127347\n",
      "NAME_EDUCATION_TYPE_Lower secondary: 0.00019569808677740436\n",
      "NAME_GOODS_CATEGORY_Computers: 0.00018592941988823493\n",
      "NAME_EDUCATION_TYPE_Incomplete higher: 0.00015859707684300344\n",
      "ORGANIZATION_TYPE_Industry: type 4: 0.00014345178652514176\n",
      "NAME_GOODS_CATEGORY_Sport and Leisure: 0.00012417153016395428\n",
      "PRODUCT_COMBINATION_POS mobile without interest: 0.00012400977440363224\n",
      "ORGANIZATION_TYPE_Hotel: 0.00011887686747456513\n",
      "PRODUCT_COMBINATION_POS others without interest: 0.00010899494273180148\n",
      "ORGANIZATION_TYPE_Cleaning: 0.00010367338112171124\n",
      "ORGANIZATION_TYPE_Business Entity Type 2: 0.00010013951005412253\n",
      "NAME_CONTRACT_STATUS_x_Unused offer: 9.5586635038225e-05\n",
      "CHANNEL_TYPE_Contact center: 9.54770684125508e-05\n",
      "ORGANIZATION_TYPE_Industry: type 11: 9.24904911090888e-05\n",
      "PRODUCT_COMBINATION_Cash Street: low: 7.743974434023614e-05\n",
      "ORGANIZATION_TYPE_Trade: type 2: 6.280250328171827e-05\n",
      "ORGANIZATION_TYPE_Industry: type 9: 5.846941292424115e-05\n",
      "ORGANIZATION_TYPE_Postal: 5.44594315560334e-05\n",
      "ORGANIZATION_TYPE_Industry: type 6: 5.230768184609951e-05\n",
      "NAME_GOODS_CATEGORY_Jewelry: 3.6010002135888474e-05\n",
      "ORGANIZATION_TYPE_Transport: type 2: 3.434626853152571e-05\n",
      "ORGANIZATION_TYPE_Trade: type 1: 3.411988474385076e-05\n",
      "ORGANIZATION_TYPE_Industry: type 10: 3.102135876909341e-05\n",
      "ORGANIZATION_TYPE_Electricity: 2.7735763391593318e-05\n",
      "ORGANIZATION_TYPE_Emergency: 2.7639767920421304e-05\n",
      "ORGANIZATION_TYPE_Industry: type 7: 2.234818231397134e-05\n",
      "NAME_SELLER_INDUSTRY_Tourism: 2.1439702727206276e-05\n",
      "PRODUCT_COMBINATION_POS other with interest: 1.079393082021026e-05\n",
      "ORGANIZATION_TYPE_Industry: type 5: 1.0069448902925702e-05\n",
      "NAME_SELLER_INDUSTRY_MLM partners: 9.31064801646411e-06\n",
      "ORGANIZATION_TYPE_Housing: 3.348090843647218e-06\n",
      "ORGANIZATION_TYPE_Trade: type 4: 2.8590932544425897e-06\n",
      "NAME_GOODS_CATEGORY_Fitness: 2.684396259015263e-06\n",
      "ORGANIZATION_TYPE_Insurance: 3.949477909668377e-07\n",
      "ORGANIZATION_TYPE_Industry: type 2: 2.3471777651632646e-07\n",
      "NAME_GOODS_CATEGORY_Direct Sales: 1.5892971113912055e-07\n",
      "CHANNEL_TYPE_Car dealer: 1.2436669103135592e-07\n",
      "CODE_REJECT_REASON_VERIF: 7.81499214435647e-08\n",
      "ORGANIZATION_TYPE_Religion: 6.018178467094175e-08\n",
      "ORGANIZATION_TYPE_Industry: type 13: 3.9728467458708936e-08\n",
      "ORGANIZATION_TYPE_Trade: type 5: 1.904087087455715e-08\n",
      "NAME_GOODS_CATEGORY_Education: 1.151837490283041e-08\n",
      "NAME_INCOME_TYPE_Student: 3.761015508750584e-09\n",
      "ORGANIZATION_TYPE_Industry: type 8: 3.761015508750584e-09\n",
      "CODE_REJECT_REASON_SYSTEM: 2.1155550055192408e-09\n"
     ]
    }
   ],
   "source": [
    "inadimplentes = payments_train_encoded[payments_train_encoded['TARGET'] == 1]\n",
    "nao_inadimplentes = payments_train_encoded[payments_train_encoded['TARGET'] == 0]\n",
    "\n",
    "\n",
    "def calcular_iv(inadimplentes, nao_inadimplentes, variavel):\n",
    "    # Calculando a taxa de inadimplência e não inadimplência\n",
    "    bad_rate = inadimplentes.groupby(variavel).size() / len(inadimplentes)\n",
    "    good_rate = nao_inadimplentes.groupby(variavel).size() / len(nao_inadimplentes)\n",
    "    \n",
    "    # Calculando o WOE (Weight of Evidence)\n",
    "    woe = np.log(good_rate / bad_rate)\n",
    "    \n",
    "    # Calculando o IV (Information Value)\n",
    "    iv = np.sum((good_rate - bad_rate) * woe)\n",
    "    \n",
    "    return iv\n",
    "\n",
    "# Dicionário para armazenar os IVs\n",
    "iv_variaveis = {}\n",
    "\n",
    "# Iteração sobre as colunas dos dataframes (supondo que são os mesmos para inadimplentes e não inadimplentes)\n",
    "for coluna in inadimplentes.columns:\n",
    "    if coluna != 'TARGET':\n",
    "        iv = calcular_iv(inadimplentes, nao_inadimplentes, coluna)\n",
    "        iv_variaveis[coluna] = iv\n",
    "\n",
    "# Ordenando as variáveis por IV decrescente\n",
    "iv_variaveis_ordenado = sorted(iv_variaveis.items(), key=lambda x: x[1], reverse=True)\n",
    "\n",
    "print(f'Variaveis menos importantes com base no IV:')\n",
    "\n",
    "# Filtrando e exibindo apenas variáveis com IV < 0.02\n",
    "for variavel, valor_iv in iv_variaveis_ordenado:\n",
    "    if valor_iv < 0.02:\n",
    "        print(f'{variavel}: {valor_iv}')"
   ]
  },
  {
   "cell_type": "code",
   "execution_count": 17,
   "id": "292afa90-5a85-45c0-a421-1d0ac2446b72",
   "metadata": {},
   "outputs": [
    {
     "data": {
      "text/plain": [
       "(70452, 43)"
      ]
     },
     "execution_count": 17,
     "metadata": {},
     "output_type": "execute_result"
    }
   ],
   "source": [
    "# Lista de variáveis a serem removidas\n",
    "vars_to_remove = [\n",
    "    'NAME_GOODS_CATEGORY_Other',\n",
    "    'CODE_REJECT_REASON_HC',\n",
    "    'NAME_YIELD_GROUP_other',\n",
    "    'NAME_YIELD_GROUP_low_normal',\n",
    "    'NAME_SELLER_INDUSTRY_Other',\n",
    "    'PRODUCT_COMBINATION_POS industry with interest',\n",
    "    'NAME_GOODS_CATEGORY_Furniture',\n",
    "    'NAME_INCOME_TYPE_State servant',\n",
    "    'NAME_SELLER_INDUSTRY_Furniture',\n",
    "    'ORGANIZATION_TYPE_Self-employed',\n",
    "    'NAME_SELLER_INDUSTRY_Consumer electronics',\n",
    "    'ORGANIZATION_TYPE_Business Entity Type 3',\n",
    "    'CHANNEL_TYPE_Stone',\n",
    "    'NAME_SELLER_INDUSTRY_Clothing',\n",
    "    'PRODUCT_COMBINATION_POS household without interest',\n",
    "    'NAME_GOODS_CATEGORY_Clothing and Accessories',\n",
    "    'NAME_YIELD_GROUP_low_action',\n",
    "    'NAME_CONTRACT_TYPE_Revolving loans',\n",
    "    'NAME_CONTRACT_STATUS_x_Canceled',\n",
    "    'PRODUCT_COMBINATION_Cash X-Sell: low',\n",
    "    'CODE_REJECT_REASON_SCOFR',\n",
    "    'PRODUCT_COMBINATION_POS household with interest',\n",
    "    'NAME_SELLER_INDUSTRY_Construction',\n",
    "    'NAME_GOODS_CATEGORY_Consumer Electronics',\n",
    "    'CHANNEL_TYPE_Credit and cash offices',\n",
    "    'NAME_YIELD_GROUP_middle',\n",
    "    'ORGANIZATION_TYPE_Construction',\n",
    "    'PRODUCT_COMBINATION_Cash',\n",
    "    'CODE_REJECT_REASON_LIMIT',\n",
    "    'PRODUCT_COMBINATION_POS industry without interest',\n",
    "    'CREDIT_ACTIVE_Sold',\n",
    "    'PRODUCT_COMBINATION_Cash Street: high',\n",
    "    'ORGANIZATION_TYPE_Security Ministries',\n",
    "    'ORGANIZATION_TYPE_School',\n",
    "    'ORGANIZATION_TYPE_Medicine',\n",
    "    'ORGANIZATION_TYPE_Transport: type 3',\n",
    "    'ORGANIZATION_TYPE_Trade: type 7',\n",
    "    'ORGANIZATION_TYPE_Industry: type 3',\n",
    "    'NAME_GOODS_CATEGORY_Construction Materials',\n",
    "    'PRODUCT_COMBINATION_Cash X-Sell: high',\n",
    "    'ORGANIZATION_TYPE_Military',\n",
    "    'NAME_GOODS_CATEGORY_Audio/Video',\n",
    "    'NAME_SELLER_INDUSTRY_Connectivity',\n",
    "    'ORGANIZATION_TYPE_Police',\n",
    "    'ORGANIZATION_TYPE_Industry: type 1',\n",
    "    'ORGANIZATION_TYPE_Industry: type 12',\n",
    "    'CHANNEL_TYPE_Regional / Local',\n",
    "    'ORGANIZATION_TYPE_Government',\n",
    "    'PRODUCT_COMBINATION_POS mobile with interest',\n",
    "    'PRODUCT_COMBINATION_Cash X-Sell: middle',\n",
    "    'PRODUCT_COMBINATION_Cash Street: middle',\n",
    "    'ORGANIZATION_TYPE_Trade: type 3',\n",
    "    'ORGANIZATION_TYPE_Bank',\n",
    "    'ORGANIZATION_TYPE_Restaurant',\n",
    "    'ORGANIZATION_TYPE_Legal Services',\n",
    "    'PRODUCT_COMBINATION_Card X-Sell',\n",
    "    'CHANNEL_TYPE_Country-wide',\n",
    "    'ORGANIZATION_TYPE_Security',\n",
    "    'ORGANIZATION_TYPE_Agriculture',\n",
    "    'NAME_GOODS_CATEGORY_Office Appliances',\n",
    "    'ORGANIZATION_TYPE_Transport: type 4',\n",
    "    'ORGANIZATION_TYPE_University',\n",
    "    'CHANNEL_TYPE_Channel of corporate sales',\n",
    "    'ORGANIZATION_TYPE_Services',\n",
    "    'ORGANIZATION_TYPE_Kindergarten',\n",
    "    'ORGANIZATION_TYPE_Telecom',\n",
    "    'ORGANIZATION_TYPE_Trade: type 6',\n",
    "    'NAME_GOODS_CATEGORY_Mobile',\n",
    "    'NAME_GOODS_CATEGORY_Photo / Cinema Equipment',\n",
    "    'ORGANIZATION_TYPE_Realtor',\n",
    "    'NAME_SELLER_INDUSTRY_Industry',\n",
    "    'ORGANIZATION_TYPE_Business Entity Type 1',\n",
    "    'NAME_GOODS_CATEGORY_Tourism',\n",
    "    'NAME_GOODS_CATEGORY_Gardening',\n",
    "    'NAME_GOODS_CATEGORY_Medicine',\n",
    "    'NAME_GOODS_CATEGORY_Medical Supplies',\n",
    "    'ORGANIZATION_TYPE_Mobile',\n",
    "    'NAME_GOODS_CATEGORY_Auto Accessories',\n",
    "    'NAME_GOODS_CATEGORY_Homewares',\n",
    "    'NAME_SELLER_INDUSTRY_Jewelry',\n",
    "    'NAME_GOODS_CATEGORY_Insurance',\n",
    "    'NAME_GOODS_CATEGORY_Weapon',\n",
    "    'CODE_REJECT_REASON_SCO',\n",
    "    'NAME_GOODS_CATEGORY_Vehicles',\n",
    "    'ORGANIZATION_TYPE_Culture',\n",
    "    'ORGANIZATION_TYPE_Transport: type 1',\n",
    "    'NAME_EDUCATION_TYPE_Lower secondary',\n",
    "    'NAME_GOODS_CATEGORY_Computers',\n",
    "    'NAME_EDUCATION_TYPE_Incomplete higher',\n",
    "    'ORGANIZATION_TYPE_Industry: type 4',\n",
    "    'NAME_GOODS_CATEGORY_Sport and Leisure',\n",
    "    'PRODUCT_COMBINATION_POS mobile without interest',\n",
    "    'ORGANIZATION_TYPE_Hotel',\n",
    "    'PRODUCT_COMBINATION_POS others without interest',\n",
    "    'ORGANIZATION_TYPE_Cleaning',\n",
    "    'ORGANIZATION_TYPE_Business Entity Type 2',\n",
    "    'NAME_CONTRACT_STATUS_x_Unused offer',\n",
    "    'CHANNEL_TYPE_Contact center',\n",
    "    'ORGANIZATION_TYPE_Industry: type 11',\n",
    "    'PRODUCT_COMBINATION_Cash Street: low',\n",
    "    'ORGANIZATION_TYPE_Trade: type 2',\n",
    "    'ORGANIZATION_TYPE_Industry: type 9',\n",
    "    'ORGANIZATION_TYPE_Postal',\n",
    "    'ORGANIZATION_TYPE_Industry: type 6',\n",
    "    'NAME_GOODS_CATEGORY_Jewelry',\n",
    "    'ORGANIZATION_TYPE_Transport: type 2',\n",
    "    'ORGANIZATION_TYPE_Trade: type 1',\n",
    "    'ORGANIZATION_TYPE_Industry: type 10',\n",
    "    'ORGANIZATION_TYPE_Electricity',\n",
    "    'ORGANIZATION_TYPE_Emergency',\n",
    "    'ORGANIZATION_TYPE_Industry: type 7',\n",
    "    'NAME_SELLER_INDUSTRY_Tourism',\n",
    "    'PRODUCT_COMBINATION_POS other with interest',\n",
    "    'ORGANIZATION_TYPE_Industry: type 5',\n",
    "    'NAME_SELLER_INDUSTRY_MLM partners',\n",
    "    'ORGANIZATION_TYPE_Housing',\n",
    "    'ORGANIZATION_TYPE_Trade: type 4',\n",
    "    'NAME_GOODS_CATEGORY_Fitness',\n",
    "    'ORGANIZATION_TYPE_Insurance',\n",
    "    'ORGANIZATION_TYPE_Industry: type 2',\n",
    "    'NAME_GOODS_CATEGORY_Direct Sales',\n",
    "    'CHANNEL_TYPE_Car dealer',\n",
    "    'CODE_REJECT_REASON_VERIF',\n",
    "    'ORGANIZATION_TYPE_Religion',\n",
    "    'ORGANIZATION_TYPE_Industry: type 13',\n",
    "    'ORGANIZATION_TYPE_Trade: type 5',\n",
    "    'NAME_GOODS_CATEGORY_Education',\n",
    "    'NAME_INCOME_TYPE_Student',\n",
    "    'ORGANIZATION_TYPE_Industry: type 8',\n",
    "    'CODE_REJECT_REASON_SYSTEM',\n",
    "    'CODE_REJECT_REASON_XNA'\n",
    "]\n",
    "\n",
    "# Removendo as variáveis do DataFrame\n",
    "payments_train_cleaned = payments_train_encoded.drop(columns=vars_to_remove, errors='ignore')\n",
    "\n",
    "payments_train_cleaned.shape"
   ]
  },
  {
   "cell_type": "code",
   "execution_count": 18,
   "id": "d56c7a38-a3c5-4947-99cd-a63deb09c56f",
   "metadata": {},
   "outputs": [
    {
     "data": {
      "text/plain": [
       "(30160, 43)"
      ]
     },
     "execution_count": 18,
     "metadata": {},
     "output_type": "execute_result"
    }
   ],
   "source": [
    "# Lista de variáveis a serem removidas\n",
    "vars_to_remove = [\n",
    "    'NAME_GOODS_CATEGORY_Other',\n",
    "    'CODE_REJECT_REASON_HC',\n",
    "    'NAME_YIELD_GROUP_other',\n",
    "    'NAME_YIELD_GROUP_low_normal',\n",
    "    'NAME_SELLER_INDUSTRY_Other',\n",
    "    'PRODUCT_COMBINATION_POS industry with interest',\n",
    "    'NAME_GOODS_CATEGORY_Furniture',\n",
    "    'NAME_INCOME_TYPE_State servant',\n",
    "    'NAME_SELLER_INDUSTRY_Furniture',\n",
    "    'ORGANIZATION_TYPE_Self-employed',\n",
    "    'NAME_SELLER_INDUSTRY_Consumer electronics',\n",
    "    'ORGANIZATION_TYPE_Business Entity Type 3',\n",
    "    'CHANNEL_TYPE_Stone',\n",
    "    'NAME_SELLER_INDUSTRY_Clothing',\n",
    "    'PRODUCT_COMBINATION_POS household without interest',\n",
    "    'NAME_GOODS_CATEGORY_Clothing and Accessories',\n",
    "    'NAME_YIELD_GROUP_low_action',\n",
    "    'NAME_CONTRACT_TYPE_Revolving loans',\n",
    "    'NAME_CONTRACT_STATUS_x_Canceled',\n",
    "    'PRODUCT_COMBINATION_Cash X-Sell: low',\n",
    "    'CODE_REJECT_REASON_SCOFR',\n",
    "    'PRODUCT_COMBINATION_POS household with interest',\n",
    "    'NAME_SELLER_INDUSTRY_Construction',\n",
    "    'NAME_GOODS_CATEGORY_Consumer Electronics',\n",
    "    'CHANNEL_TYPE_Credit and cash offices',\n",
    "    'NAME_YIELD_GROUP_middle',\n",
    "    'ORGANIZATION_TYPE_Construction',\n",
    "    'PRODUCT_COMBINATION_Cash',\n",
    "    'CODE_REJECT_REASON_LIMIT',\n",
    "    'PRODUCT_COMBINATION_POS industry without interest',\n",
    "    'CREDIT_ACTIVE_Sold',\n",
    "    'PRODUCT_COMBINATION_Cash Street: high',\n",
    "    'ORGANIZATION_TYPE_Security Ministries',\n",
    "    'ORGANIZATION_TYPE_School',\n",
    "    'ORGANIZATION_TYPE_Medicine',\n",
    "    'ORGANIZATION_TYPE_Transport: type 3',\n",
    "    'ORGANIZATION_TYPE_Trade: type 7',\n",
    "    'ORGANIZATION_TYPE_Industry: type 3',\n",
    "    'NAME_GOODS_CATEGORY_Construction Materials',\n",
    "    'PRODUCT_COMBINATION_Cash X-Sell: high',\n",
    "    'ORGANIZATION_TYPE_Military',\n",
    "    'NAME_GOODS_CATEGORY_Audio/Video',\n",
    "    'NAME_SELLER_INDUSTRY_Connectivity',\n",
    "    'ORGANIZATION_TYPE_Police',\n",
    "    'ORGANIZATION_TYPE_Industry: type 1',\n",
    "    'ORGANIZATION_TYPE_Industry: type 12',\n",
    "    'CHANNEL_TYPE_Regional / Local',\n",
    "    'ORGANIZATION_TYPE_Government',\n",
    "    'PRODUCT_COMBINATION_POS mobile with interest',\n",
    "    'PRODUCT_COMBINATION_Cash X-Sell: middle',\n",
    "    'PRODUCT_COMBINATION_Cash Street: middle',\n",
    "    'ORGANIZATION_TYPE_Trade: type 3',\n",
    "    'ORGANIZATION_TYPE_Bank',\n",
    "    'ORGANIZATION_TYPE_Restaurant',\n",
    "    'ORGANIZATION_TYPE_Legal Services',\n",
    "    'PRODUCT_COMBINATION_Card X-Sell',\n",
    "    'CHANNEL_TYPE_Country-wide',\n",
    "    'ORGANIZATION_TYPE_Security',\n",
    "    'ORGANIZATION_TYPE_Agriculture',\n",
    "    'NAME_GOODS_CATEGORY_Office Appliances',\n",
    "    'ORGANIZATION_TYPE_Transport: type 4',\n",
    "    'ORGANIZATION_TYPE_University',\n",
    "    'CHANNEL_TYPE_Channel of corporate sales',\n",
    "    'ORGANIZATION_TYPE_Services',\n",
    "    'ORGANIZATION_TYPE_Kindergarten',\n",
    "    'ORGANIZATION_TYPE_Telecom',\n",
    "    'ORGANIZATION_TYPE_Trade: type 6',\n",
    "    'NAME_GOODS_CATEGORY_Mobile',\n",
    "    'NAME_GOODS_CATEGORY_Photo / Cinema Equipment',\n",
    "    'ORGANIZATION_TYPE_Realtor',\n",
    "    'NAME_SELLER_INDUSTRY_Industry',\n",
    "    'ORGANIZATION_TYPE_Business Entity Type 1',\n",
    "    'NAME_GOODS_CATEGORY_Tourism',\n",
    "    'NAME_GOODS_CATEGORY_Gardening',\n",
    "    'NAME_GOODS_CATEGORY_Medicine',\n",
    "    'NAME_GOODS_CATEGORY_Medical Supplies',\n",
    "    'ORGANIZATION_TYPE_Mobile',\n",
    "    'NAME_GOODS_CATEGORY_Auto Accessories',\n",
    "    'NAME_GOODS_CATEGORY_Homewares',\n",
    "    'NAME_SELLER_INDUSTRY_Jewelry',\n",
    "    'NAME_GOODS_CATEGORY_Insurance',\n",
    "    'NAME_GOODS_CATEGORY_Weapon',\n",
    "    'CODE_REJECT_REASON_SCO',\n",
    "    'NAME_GOODS_CATEGORY_Vehicles',\n",
    "    'ORGANIZATION_TYPE_Culture',\n",
    "    'ORGANIZATION_TYPE_Transport: type 1',\n",
    "    'NAME_EDUCATION_TYPE_Lower secondary',\n",
    "    'NAME_GOODS_CATEGORY_Computers',\n",
    "    'NAME_EDUCATION_TYPE_Incomplete higher',\n",
    "    'ORGANIZATION_TYPE_Industry: type 4',\n",
    "    'NAME_GOODS_CATEGORY_Sport and Leisure',\n",
    "    'PRODUCT_COMBINATION_POS mobile without interest',\n",
    "    'ORGANIZATION_TYPE_Hotel',\n",
    "    'PRODUCT_COMBINATION_POS others without interest',\n",
    "    'ORGANIZATION_TYPE_Cleaning',\n",
    "    'ORGANIZATION_TYPE_Business Entity Type 2',\n",
    "    'NAME_CONTRACT_STATUS_x_Unused offer',\n",
    "    'CHANNEL_TYPE_Contact center',\n",
    "    'ORGANIZATION_TYPE_Industry: type 11',\n",
    "    'PRODUCT_COMBINATION_Cash Street: low',\n",
    "    'ORGANIZATION_TYPE_Trade: type 2',\n",
    "    'ORGANIZATION_TYPE_Industry: type 9',\n",
    "    'ORGANIZATION_TYPE_Postal',\n",
    "    'ORGANIZATION_TYPE_Industry: type 6',\n",
    "    'NAME_GOODS_CATEGORY_Jewelry',\n",
    "    'ORGANIZATION_TYPE_Transport: type 2',\n",
    "    'ORGANIZATION_TYPE_Trade: type 1',\n",
    "    'ORGANIZATION_TYPE_Industry: type 10',\n",
    "    'ORGANIZATION_TYPE_Electricity',\n",
    "    'ORGANIZATION_TYPE_Emergency',\n",
    "    'ORGANIZATION_TYPE_Industry: type 7',\n",
    "    'NAME_SELLER_INDUSTRY_Tourism',\n",
    "    'PRODUCT_COMBINATION_POS other with interest',\n",
    "    'ORGANIZATION_TYPE_Industry: type 5',\n",
    "    'NAME_SELLER_INDUSTRY_MLM partners',\n",
    "    'ORGANIZATION_TYPE_Housing',\n",
    "    'ORGANIZATION_TYPE_Trade: type 4',\n",
    "    'NAME_GOODS_CATEGORY_Fitness',\n",
    "    'ORGANIZATION_TYPE_Insurance',\n",
    "    'ORGANIZATION_TYPE_Industry: type 2',\n",
    "    'NAME_GOODS_CATEGORY_Direct Sales',\n",
    "    'CHANNEL_TYPE_Car dealer',\n",
    "    'CODE_REJECT_REASON_VERIF',\n",
    "    'ORGANIZATION_TYPE_Religion',\n",
    "    'ORGANIZATION_TYPE_Industry: type 13',\n",
    "    'ORGANIZATION_TYPE_Trade: type 5',\n",
    "    'NAME_GOODS_CATEGORY_Education',\n",
    "    'NAME_INCOME_TYPE_Student',\n",
    "    'ORGANIZATION_TYPE_Industry: type 8',\n",
    "    'CODE_REJECT_REASON_SYSTEM',\n",
    "    'CODE_REJECT_REASON_XNA'\n",
    "]\n",
    "\n",
    "# Removendo as variáveis do DataFrame\n",
    "payments_test_cleaned = payments_test_encoded.drop(columns=vars_to_remove, errors='ignore')\n",
    "\n",
    "payments_test_cleaned.shape"
   ]
  },
  {
   "cell_type": "markdown",
   "id": "d2f3e6c6-5b32-4aef-a1a1-cb93b6c9ea15",
   "metadata": {
    "jp-MarkdownHeadingCollapsed": true
   },
   "source": [
    "# Variance Inflation Factor (VIF)"
   ]
  },
  {
   "cell_type": "code",
   "execution_count": 19,
   "id": "f17e39e5-2b89-4f67-aa22-33f8891df830",
   "metadata": {},
   "outputs": [
    {
     "name": "stdout",
     "output_type": "stream",
     "text": [
      "                                              Feature        VIF\n",
      "0                                      FLAG_EMP_PHONE  99.896664\n",
      "1                                          DAYS_BIRTH  31.514965\n",
      "2                          NAME_INCOME_TYPE_Pensioner  28.451964\n",
      "3                             HOUR_APPR_PROCESS_START  25.600977\n",
      "4                                   AMT_GOODS_PRICE_y  25.328053\n",
      "5                                         DAYS_CREDIT  22.845900\n",
      "6                              CODE_REJECT_REASON_XAP  21.070961\n",
      "7                                        AMT_CREDIT_y  19.267834\n",
      "8   NAME_EDUCATION_TYPE_Secondary / secondary special  18.019839\n",
      "9                                   DAYS_ENDDATE_FACT  15.583368\n",
      "10                                   DAYS_TERMINATION  14.511039\n",
      "11                                      DAYS_LAST_DUE  14.170359\n",
      "12                                      AMT_ANNUITY_y  14.128784\n",
      "13                                        CNT_PAYMENT  11.328385\n",
      "14                                 DAYS_CREDIT_UPDATE  11.131377\n",
      "15                                     MONTHS_BALANCE  10.243280\n",
      "16                                   AMT_INCOME_TOTAL   8.991934\n",
      "17                                      DAYS_DECISION   8.052328\n",
      "18                                      AMT_ANNUITY_x   7.350353\n",
      "19               NAME_EDUCATION_TYPE_Higher education   6.861781\n",
      "20                                    DAYS_ID_PUBLISH   6.172116\n",
      "21                            ORGANIZATION_TYPE_Other   4.613706\n",
      "22                                    FLAG_DOCUMENT_3   4.228422\n",
      "23                               CREDIT_ACTIVE_Closed   4.126247\n",
      "24                         REGION_POPULATION_RELATIVE   3.677181\n",
      "25                  NAME_CONTRACT_TYPE_Consumer loans   3.594391\n",
      "26                                  DAYS_REGISTRATION   3.500577\n",
      "27                           NAME_INCOME_TYPE_Working   2.906806\n",
      "28                                     AMT_CREDIT_SUM   2.787154\n",
      "29                              NUM_INSTALMENT_NUMBER   2.590334\n",
      "30                          DAYS_LAST_DUE_1ST_VERSION   2.386787\n",
      "31                                AMT_CREDIT_SUM_DEBT   1.999335\n",
      "32                                      CODE_GENDER_M   1.693412\n",
      "33                     NAME_CONTRACT_STATUS_x_Refused   1.682973\n",
      "34                                     DAYS_FIRST_DUE   1.596070\n",
      "35                             REG_CITY_NOT_WORK_CITY   1.411730\n",
      "36                                   SELLERPLACE_AREA   1.276384\n",
      "37                                DAYS_CREDIT_ENDDATE   1.215058\n",
      "38                                             TARGET   1.113756\n",
      "39                               AMT_CREDIT_SUM_LIMIT   1.078235\n",
      "40                                             SK_DPD   1.075864\n",
      "41                                         SK_DPD_DEF   1.055392\n",
      "42                                 CREDIT_DAY_OVERDUE   1.006443\n"
     ]
    }
   ],
   "source": [
    "# Selecionar apenas variáveis numéricas\n",
    "numeric_cols = payments_train_cleaned.select_dtypes(include=['int64', 'float64']).columns\n",
    "\n",
    "# Calcular VIF para cada variável numérica\n",
    "vif_data = pd.DataFrame()\n",
    "vif_data[\"Feature\"] = numeric_cols\n",
    "vif_data[\"VIF\"] = [variance_inflation_factor(payments_train_cleaned[numeric_cols].values, i) for i in range(len(numeric_cols))]\n",
    "\n",
    "# Ordenar em ordem decrescente de VIF\n",
    "vif_data = vif_data.sort_values(by='VIF', ascending=False).reset_index(drop=True)\n",
    "\n",
    "print(vif_data)"
   ]
  },
  {
   "cell_type": "code",
   "execution_count": null,
   "id": "3bfddeb4-f061-4ead-8f13-95be3c8c03d6",
   "metadata": {},
   "outputs": [],
   "source": []
  },
  {
   "cell_type": "code",
   "execution_count": 20,
   "id": "203225a3-12b3-4eca-8e7a-c3f913c1a1e2",
   "metadata": {},
   "outputs": [],
   "source": [
    "# Vou manter estas variaveis por falta de tempo para testar com e sem elas"
   ]
  },
  {
   "cell_type": "markdown",
   "id": "23870d2c-4cac-4564-94a2-74f4fc70d1fc",
   "metadata": {
    "jp-MarkdownHeadingCollapsed": true
   },
   "source": [
    "# StandardScaler"
   ]
  },
  {
   "cell_type": "code",
   "execution_count": 21,
   "id": "f17c74ed-2ecb-4558-983d-1092ff547e65",
   "metadata": {},
   "outputs": [
    {
     "name": "stdout",
     "output_type": "stream",
     "text": [
      "X_train shape: (70452, 42)\n",
      "y_train shape: (70452,)\n",
      "X_test shape: (30160, 42)\n",
      "y_test shape: (30160,)\n"
     ]
    }
   ],
   "source": [
    "# Base de treino\n",
    "X_train = payments_train_cleaned.drop(columns=['TARGET'])\n",
    "y_train = payments_train_cleaned['TARGET']\n",
    "\n",
    "# Base de teste\n",
    "X_test = payments_test_cleaned.drop(columns=['TARGET'])\n",
    "y_test = payments_test_cleaned['TARGET']\n",
    "\n",
    "# Verificando as dimensões\n",
    "print(f\"X_train shape: {X_train.shape}\")\n",
    "print(f\"y_train shape: {y_train.shape}\")\n",
    "print(f\"X_test shape: {X_test.shape}\")\n",
    "print(f\"y_test shape: {y_test.shape}\")"
   ]
  },
  {
   "cell_type": "code",
   "execution_count": 22,
   "id": "628bbf1f-32f2-4055-a971-98dc39ab8648",
   "metadata": {
    "scrolled": true
   },
   "outputs": [
    {
     "name": "stdout",
     "output_type": "stream",
     "text": [
      "Dimensões do treino escalonado: (70452, 42)\n",
      "Dimensões do teste escalonado: (30160, 42)\n"
     ]
    }
   ],
   "source": [
    "# Inicializando o escalonador\n",
    "scaler = StandardScaler()\n",
    "\n",
    "# Ajustando e transformando o conjunto de treino\n",
    "X_train_scaled = scaler.fit_transform(X_train)\n",
    "\n",
    "# Transformando o conjunto de teste\n",
    "X_test_scaled = scaler.transform(X_test)\n",
    "\n",
    "# Dimensões após escalonamento\n",
    "print(\"Dimensões do treino escalonado:\", X_train_scaled.shape)\n",
    "print(\"Dimensões do teste escalonado:\", X_test_scaled.shape)\n"
   ]
  },
  {
   "cell_type": "markdown",
   "id": "d2ecf240-6512-477a-8245-27a45b93af82",
   "metadata": {
    "jp-MarkdownHeadingCollapsed": true
   },
   "source": [
    "# Random Forest"
   ]
  },
  {
   "cell_type": "code",
   "execution_count": 23,
   "id": "54366b74-4849-46c8-a8cb-6728c02d6810",
   "metadata": {},
   "outputs": [
    {
     "name": "stdout",
     "output_type": "stream",
     "text": [
      "Dimensões do conjunto de treino balanceado: (130450, 42) (130450,)\n"
     ]
    }
   ],
   "source": [
    "# Aplicando SMOTE para balancear as classes\n",
    "smote = SMOTE(random_state=42)\n",
    "X_train_resampled, y_train_resampled = smote.fit_resample(X_train_scaled, y_train)\n",
    "\n",
    "# Definindo o modelo Random Forest\n",
    "rf_model = RandomForestClassifier(n_estimators=80, random_state=42)\n",
    "\n",
    "# Treinando o modelo com os dados balanceados\n",
    "rf_model.fit(X_train_resampled, y_train_resampled)\n",
    "\n",
    "# Exibindo as dimensões após o balanceamento\n",
    "print(\"Dimensões do conjunto de treino balanceado:\", X_train_resampled.shape, y_train_resampled.shape)"
   ]
  },
  {
   "cell_type": "code",
   "execution_count": 24,
   "id": "5725b19b-59e8-45d8-9757-45bd7ebf03f5",
   "metadata": {},
   "outputs": [
    {
     "data": {
      "image/png": "[encoded data removed]",
      "text/plain": [
       "<Figure size 1500x600 with 1 Axes>"
      ]
     },
     "metadata": {},
     "output_type": "display_data"
    }
   ],
   "source": [
    "# Previsões no conjunto de teste\n",
    "y_pred = rf_model.predict(X_test_scaled)\n",
    "y_prob = rf_model.predict_proba(X_test_scaled)[:, 1]\n",
    "\n",
    "# Cálculo da Curva ROC\n",
    "fpr, tpr, thresholds = roc_curve(y_test, y_prob)\n",
    "roc_auc = auc(fpr, tpr)\n",
    "\n",
    "# Plot da Curva ROC\n",
    "plt.figure(figsize=(15, 6))\n",
    "plt.plot(fpr, tpr, color='blue', lw=2, label='Área sob a Curva (AUC = %0.2f)' % roc_auc)\n",
    "plt.plot([0, 1], [0, 1], color='red', lw=2, linestyle='--')\n",
    "plt.xlim([0.0, 1.0])\n",
    "plt.ylim([0.0, 1.0])\n",
    "plt.xlabel('Taxa de Falsos Positivos')\n",
    "plt.ylabel('Taxa de Verdadeiros Positivos')\n",
    "plt.title('Curva ROC')\n",
    "plt.legend(loc='lower right')\n",
    "plt.show()\n"
   ]
  },
  {
   "cell_type": "markdown",
   "id": "121fc26d-48b0-4e53-9f3b-3557339df07d",
   "metadata": {},
   "source": [
    "A acurácia do modelo Random Forest foi de 0,62, o que indica um desempenho moderado. Embora o modelo tenha capturado uma parte dos casos corretamente, a acurácia inferior à da regressão logística sugere que ele pode não estar tão bem ajustado para este conjunto de dados."
   ]
  },
  {
   "cell_type": "code",
   "execution_count": 25,
   "id": "7cd1642b-f0dc-40cb-899b-ec754e01acc1",
   "metadata": {},
   "outputs": [
    {
     "data": {
      "image/png": "[encoded data removed]",
      "text/plain": [
       "<Figure size 1500x600 with 2 Axes>"
      ]
     },
     "metadata": {},
     "output_type": "display_data"
    }
   ],
   "source": [
    "# Matriz de Confusão\n",
    "cm = confusion_matrix(y_test, y_pred)\n",
    "plt.figure(figsize=(15, 6))\n",
    "sns.heatmap(cm, annot=True, fmt='d', cmap='Blues', xticklabels=['Não', 'Sim'], yticklabels=['Não', 'Sim'])\n",
    "plt.ylabel('Real')\n",
    "plt.xlabel('Predito')\n",
    "plt.title('Matriz de Confusão')\n",
    "plt.show()"
   ]
  },
  {
   "cell_type": "markdown",
   "id": "eb94822c-9d4f-4ca4-af8a-e2713380067e",
   "metadata": {},
   "source": [
    "- Verdadeiros Negativos (TN): 25.992 - O modelo corretamente previu que esses clientes não seriam inadimplentes.\n",
    "- Falsos Positivos (FP): 1.956 - O modelo previu erroneamente que esses clientes seriam inadimplentes.\n",
    "- Falsos Negativos (FN): 1.898 - O modelo previu erroneamente que esses clientes não seriam inadimplentes.\n",
    "- Verdadeiros Positivos (TP): 314 - O modelo corretamente identificou esses clientes como inadimplentes.\n",
    "\n",
    "Conclusão:\n",
    "A Random Forest teve um desempenho que indica uma boa capacidade de identificar clientes não inadimplentes, com um número considerável de verdadeiros negativos. No entanto, o número de falsos positivos e negativos ainda é relevante, especialmente os falsos negativos, que representam clientes inadimplentes não identificados, aumentando o risco de crédito. Melhorias podem ser exploradas por meio de ajustes de hiperparâmetros ou abordagens de balanceamento.\n",
    "\n",
    "\n",
    "\n",
    "\n"
   ]
  },
  {
   "cell_type": "markdown",
   "id": "0fdace49-ac56-40bf-8c87-2a95c50a0374",
   "metadata": {
    "jp-MarkdownHeadingCollapsed": true
   },
   "source": [
    "# LogisticRegression"
   ]
  },
  {
   "cell_type": "code",
   "execution_count": 33,
   "id": "b3975e45-75d7-4f11-8bbf-a12040c1c315",
   "metadata": {},
   "outputs": [
    {
     "data": {
      "image/png": "[encoded data removed]",
      "text/plain": [
       "<Figure size 1500x600 with 1 Axes>"
      ]
     },
     "metadata": {},
     "output_type": "display_data"
    }
   ],
   "source": [
    "# Definindo o modelo de Regressão Logística\n",
    "log_model = LogisticRegression(random_state=42, max_iter=1000)\n",
    "\n",
    "# Treinando o modelo com os dados balanceados\n",
    "log_model.fit(X_train_resampled, y_train_resampled)\n",
    "\n",
    "# Fazendo previsões no conjunto de teste\n",
    "y_pred_log = log_model.predict(X_test_scaled)\n",
    "y_prob_log = log_model.predict_proba(X_test_scaled)[:, 1]\n",
    "\n",
    "\n",
    "# Cálculo da Curva ROC\n",
    "fpr_log, tpr_log, thresholds_log = roc_curve(y_test, y_prob_log)\n",
    "roc_auc_log = auc(fpr_log, tpr_log)\n",
    "\n",
    "# Plot da Curva ROC\n",
    "plt.figure(figsize=(15, 6))\n",
    "plt.plot(fpr_log, tpr_log, color='blue', label='Curva ROC (area = {:.2f})'.format(roc_auc_log))\n",
    "plt.plot([0, 1], [0, 1], color='red', linestyle='--')\n",
    "plt.xlim([0.0, 1.0])\n",
    "plt.ylim([0.0, 1.0])\n",
    "plt.xlabel('Taxa de Falsos Positivos')\n",
    "plt.ylabel('Taxa de Verdadeiros Positivos')\n",
    "plt.title('Curva ROC - Regressão Logística')\n",
    "plt.legend(loc='lower right')\n",
    "plt.show()"
   ]
  },
  {
   "cell_type": "markdown",
   "id": "1cb1053c-a1bb-466c-871f-db0dabc0630a",
   "metadata": {},
   "source": [
    "A regressão logística apresentou uma acurácia de 0,68, indicando um desempenho melhor em comparação aos outros modelos. A distância maior da linha ROC em relação à linha pontilhada (representando um desempenho aleatório) sugere que o modelo é eficaz em distinguir entre clientes inadimplentes (1) e não inadimplentes (0). Esse resultado é encorajador para análises de crédito, pois implica uma maior capacidade de prever inadimplência, permitindo decisões de crédito mais informadas e mitigação de riscos financeiros. "
   ]
  },
  {
   "cell_type": "code",
   "execution_count": 27,
   "id": "4f43e8d5-ffe5-4834-88f7-157229606e4f",
   "metadata": {},
   "outputs": [
    {
     "data": {
      "image/png": "[encoded data removed]",
      "text/plain": [
       "<Figure size 1500x600 with 2 Axes>"
      ]
     },
     "metadata": {},
     "output_type": "display_data"
    }
   ],
   "source": [
    "# Matriz de Confusão para Regressão Logística\n",
    "conf_matrix_log = confusion_matrix(y_test, y_pred_log)\n",
    "\n",
    "plt.figure(figsize=(15, 6))\n",
    "sns.heatmap(conf_matrix_log, annot=True, fmt='d', cmap='Blues', \n",
    "            xticklabels=['Classe 0', 'Classe 1'], \n",
    "            yticklabels=['Classe 0', 'Classe 1'])\n",
    "plt.title('Matriz de Confusão - Regressão Logística')\n",
    "plt.xlabel('Predição')\n",
    "plt.ylabel('Real')\n",
    "plt.show()\n"
   ]
  },
  {
   "cell_type": "markdown",
   "id": "1c718303-5168-46de-ad8c-2025b5f68dfa",
   "metadata": {},
   "source": [
    "- O modelo classificou corretamente 17.921 clientes como não inadimplentes (0) e 1.386 clientes como inadimplentes (1). No entanto, houve 10.027 falsos positivos (classificados como inadimplentes quando na verdade não eram) e 826 falsos negativos (classificados como não inadimplentes quando eram inadimplentes).\n",
    "\n",
    "- A acurácia do modelo, de 0,68, indica um desempenho razoável, embora haja espaço para melhoria, especialmente em reduzir os falsos positivos e negativos. A alta quantidade de falsos positivos pode resultar em perdas financeiras, já que mais clientes estão sendo classificados erroneamente como inadimplentes."
   ]
  },
  {
   "cell_type": "markdown",
   "id": "61c9818a-a757-4457-b5c8-6d2c3a26a1d2",
   "metadata": {
    "jp-MarkdownHeadingCollapsed": true
   },
   "source": [
    "# DecisionTreeClassifier"
   ]
  },
  {
   "cell_type": "code",
   "execution_count": 31,
   "id": "ff52d030-cfec-4d5b-89e2-4ee2af9ad9f7",
   "metadata": {},
   "outputs": [
    {
     "data": {
      "image/png": "[encoded data removed]",
      "text/plain": [
       "<Figure size 1500x600 with 1 Axes>"
      ]
     },
     "metadata": {},
     "output_type": "display_data"
    }
   ],
   "source": [
    "# Definindo o modelo de Árvore de Decisão\n",
    "tree_model = DecisionTreeClassifier(random_state=42)\n",
    "\n",
    "# Treinando o modelo com os dados balanceados\n",
    "tree_model.fit(X_train_resampled, y_train_resampled)\n",
    "\n",
    "# Fazendo previsões no conjunto de teste\n",
    "y_pred_tree = tree_model.predict(X_test_scaled)\n",
    "y_prob_tree = tree_model.predict_proba(X_test_scaled)[:, 1]\n",
    "\n",
    "# Cálculo da Curva ROC\n",
    "fpr_tree, tpr_tree, thresholds_tree = roc_curve(y_test, y_prob_tree)\n",
    "roc_auc_tree = auc(fpr_tree, tpr_tree)\n",
    "\n",
    "# Plot da Curva ROC\n",
    "plt.figure(figsize=(15, 6))\n",
    "plt.plot(fpr_tree, tpr_tree, color='green', label='Curva ROC (area = {:.2f})'.format(roc_auc_tree))\n",
    "plt.plot([0, 1], [0, 1], color='red', linestyle='--')\n",
    "plt.xlim([0.0, 1.0])\n",
    "plt.ylim([0.0, 1.0])\n",
    "plt.xlabel('Taxa de Falsos Positivos')\n",
    "plt.ylabel('Taxa de Verdadeiros Positivos')\n",
    "plt.title('Curva ROC - Árvore de Decisão')\n",
    "plt.legend(loc='lower right')\n",
    "plt.show()"
   ]
  },
  {
   "cell_type": "markdown",
   "id": "b7611f31-ae1d-476f-8f4e-38b621ebdbfa",
   "metadata": {},
   "source": [
    "Análise CURVA ROC\n",
    "\n",
    "- Uma acurácia de 0,53 (ou 53%) significa que o modelo acertou 53% das previsões feitas em relação ao total de exemplos avaliados. Em outras palavras, de todas as previsões, 53% estavam corretas. Desempenho abaixo do esperado.\n",
    "- A linha verde encontra-se muito próxima da pontilhada, comprovando que a acuracidade do modelo é tão bom quanto um classificador aleatorio.\n",
    "- Provavelmente isso se dá devio aos outliers que eu deixei no modelo."
   ]
  },
  {
   "cell_type": "code",
   "execution_count": 29,
   "id": "2aeb69db-94c8-40a0-83a5-e154197afe61",
   "metadata": {},
   "outputs": [
    {
     "data": {
      "image/png": "[encoded data removed]",
      "text/plain": [
       "<Figure size 1500x600 with 2 Axes>"
      ]
     },
     "metadata": {},
     "output_type": "display_data"
    }
   ],
   "source": [
    "# Matriz de Confusão para Árvore de Decisão\n",
    "conf_matrix_tree = confusion_matrix(y_test, y_pred_tree)\n",
    "\n",
    "plt.figure(figsize=(15, 6))\n",
    "sns.heatmap(conf_matrix_tree, annot=True, fmt='d', cmap='Greens', \n",
    "            xticklabels=['Adimplentes (0)', 'Inadimplentes (1)'], \n",
    "            yticklabels=['Adimplentes (0)', 'Inadimplentes (1)'])\n",
    "plt.title('Matriz de Confusão - Árvore de Decisão')\n",
    "plt.xlabel('Predição')\n",
    "plt.ylabel('Real')\n",
    "plt.show()\n"
   ]
  },
  {
   "cell_type": "markdown",
   "id": "fe7d006b-9e2d-42c9-ad52-c538965bb6eb",
   "metadata": {},
   "source": [
    "A análise da matriz de confusão para o modelo de árvore de decisão revela que, ao classificar os clientes em relação à inadimplência, o modelo acerta 20629 clientes não inadimplentes (0) e 715 inadimplentes (1). No entanto, há 7319 falsos positivos, ou seja, clientes classificados como inadimplentes que, na verdade, não são, e 1497 falsos negativos, que são clientes inadimplentes não identificados. Isso sugere que o modelo pode ser excessivamente conservador ao identificar inadimplentes, potencialmente afetando decisões de crédito. Concluindo, este modelo não estaria pronto para a Home Credit usar para aumentar sua carteira de clientes."
   ]
  },
  {
   "cell_type": "code",
   "execution_count": null,
   "id": "37685c76-2a7a-4a61-82ed-14e7969aeaa5",
   "metadata": {},
   "outputs": [],
   "source": []
  }
 ],
 "metadata": {
  "kernelspec": {
   "display_name": "Python 3 (ipykernel)",
   "language": "python",
   "name": "python3"
  },
  "language_info": {
   "codemirror_mode": {
    "name": "ipython",
    "version": 3
   },
   "file_extension": ".py",
   "mimetype": "text/x-python",
   "name": "python",
   "nbconvert_exporter": "python",
   "pygments_lexer": "ipython3",
   "version": "3.11.9"
  }
 },
 "nbformat": 4,
 "nbformat_minor": 5
}

{
 "cells": [
  {
   "cell_type": "markdown",
   "id": "25652021-ed6a-4ea1-8e1b-8689ec49375c",
   "metadata": {},
   "source": [
    "A qualidade do video não saiu boa, não consegui usar outra ferramenta por falta de tempo."
   ]
  },
  {
   "cell_type": "markdown",
   "id": "fa936c1c-b524-4a0c-b509-75b097a9d4c9",
   "metadata": {},
   "source": [
    "[VIDEO 1](https://youtu.be/MNZcsSTH5bU)"
   ]
  },
  {
   "cell_type": "markdown",
   "id": "f2c83205-77eb-45c3-8385-d3ef2a0fa9a0",
   "metadata": {},
   "source": [
    "[VIDEO 2 ](https://youtu.be/nGsfMnQyTQY)"
   ]
  }
 ],
 "metadata": {
  "kernelspec": {
   "display_name": "Python 3 (ipykernel)",
   "language": "python",
   "name": "python3"
  },
  "language_info": {
   "codemirror_mode": {
    "name": "ipython",
    "version": 3
   },
   "file_extension": ".py",
   "mimetype": "text/x-python",
   "name": "python",
   "nbconvert_exporter": "python",
   "pygments_lexer": "ipython3",
   "version": "3.11.9"
  }
 },
 "nbformat": 4,
 "nbformat_minor": 5
}

{
 "cells": [
  {
   "cell_type": "code",
   "execution_count": null,
   "id": "c9509a6a-f5b8-4e81-b2ce-f72d00cb379b",
   "metadata": {},
   "outputs": [],
   "source": [
    "np.random.seed(1)\n",
    "bureau_balance1 = bureau_balance.sample(frac=0.0113)\n",
    "bureau1 = bureau.sample(frac=0.1792)\n",
    "credit = credit_card_balance.sample(frac=0.0801)\n",
    "installments = installments_payments.sample(frac=0.0226)\n",
    "pos_cash = pos_cash_balance.sample(frac=0.0307)\n",
    "previous = previous_application.sample(frac=0.1841)\n",
    "\n",
    "# Exibindo o shape de cada dataframe após a amostragem\n",
    "print(\"Shape de bureau_balance:\", bureau_balance1.shape)\n",
    "print(\"Shape de bureau:\", bureau1.shape)\n",
    "print(\"Shape de credit_card_balance:\", credit.shape)\n",
    "print(\"Shape de installments_payments:\", installments.shape)\n",
    "print(\"Shape de pos_cash_balance:\", pos_cash.shape)\n",
    "print(\"Shape de previous_application:\", previous.shape)"
   ]
  }
 ],
 "metadata": {
  "kernelspec": {
   "display_name": "Python 3 (ipykernel)",
   "language": "python",
   "name": "python3"
  },
  "language_info": {
   "codemirror_mode": {
    "name": "ipython",
    "version": 3
   },
   "file_extension": ".py",
   "mimetype": "text/x-python",
   "name": "python",
   "nbconvert_exporter": "python",
   "pygments_lexer": "ipython3",
   "version": "3.11.9"
  }
 },
 "nbformat": 4,
 "nbformat_minor": 5
}

{
 "cells": [
  {
   "cell_type": "markdown",
   "id": "66e39166-1687-4664-a795-db6b5c2b207a",
   "metadata": {},
   "source": [
    "# application_train"
   ]
  },
  {
   "cell_type": "markdown",
   "id": "abb17511-15e0-439b-b0c7-0c64d6edab21",
   "metadata": {},
   "source": [
    "Através da análise deste dataset foram retirados varios insights para a contribuição na tomada de decisão dos bancos em quais perfis liberar credito, qual grupo de pessoas abordar linhas de creditos mais conservadoras, analisando perfis por idade, gênero, tipo de contrado, etc.\n",
    "\n",
    "- Exemplos:\n",
    "1. Políticas mais rigorosas para indivíduos na faixa de 28 a 40 anos devido ao maior grau de inadimplência.\n",
    "2. A causa da inadimplência não é acometida por pessoas terem carro ou imóvel.\n",
    "3. A renda total de um cliente não é o maior motivo de inadimplência.\n",
    "4. Mulheres tendem a emprestar mais, porèm, homen tendem a ficar mais inadimplentes.\n",
    "5. Pessoas que não tem filhos emprestam mais, os bancos poderiam se aprofundar mais e entender o perfil desses clientes."
   ]
  },
  {
   "cell_type": "markdown",
   "id": "51feaeac-f88b-4e4a-9dd4-b74a119c9e81",
   "metadata": {},
   "source": [
    "# Machine Learning"
   ]
  },
  {
   "cell_type": "markdown",
   "id": "71265bd5-5ef1-427f-9db8-effdc80a9f72",
   "metadata": {},
   "source": [
    "## Random Forest\n",
    "\n",
    "- A acuracidade deste modelo foi de 62% de acertos, o que não é tão ruim para uma análise inicial, no entanto, não poderia ser usado por uma instituição financeira devido as melhorias que necessitam ser feitas.\n",
    "- Outro fator que confirma o modelo ser ineficiente é baseado no teste da matriz de confusão que previu que 25992 clientes não seria inadimplentes, um excelente resultado se não errasse 1956 clientes, ou seja, 1956 clientes ficaria devendo para o banco. Também previu que 1898 clientes não seriam inadimplentes, no entando, eles são, ocasionando prejuizo ao banco, por ultimo, identificou corretamente 314 clientes inadimplentes. "
   ]
  },
  {
   "cell_type": "markdown",
   "id": "41e68c77-db71-4a49-91b6-ce8cd0231936",
   "metadata": {},
   "source": [
    "## LogisticRegression\n",
    "\n",
    "- O melhor dos desempenhos quando se trata de acuracidade, a regressão logistica obteve 68% de acertos, no entanto, quando se trata de linha de crédito, precisamos ter um percentual melhor, o que corrobora com a necessidade de melhorias é a matriz de confusão, que acertou 17921 clientes como pagadores e 1386 pagadores como não pagadores, porém,  a presença de 10.027 falsos positivos (clientes que foram classificados como inadimplentes, mas não eram) podem levar o banco a tomar decisões erradas, como a recusa de crédito, impactando negativamente a experiência do cliente e o potencial de receita do banco, o que vai totalmente o oposto do objetivo desse projeto.\n",
    "- Se o banco usasse este modelo hoje, ele poderia perder receita por emprestar a 826 clientes que foram considerados adimplentes, no entanto, são inadimplentes, e isso, banco nenhum quer.."
   ]
  },
  {
   "cell_type": "markdown",
   "id": "df57e6ab-afdb-4d72-84c9-63f20a3233a8",
   "metadata": {},
   "source": [
    "## DecisionTreeClassifier\n",
    "\n",
    "- O pior de todos em acuracidade, com 53% de acertos, a arvore de decisão não conseguiu competir com os outros dois modelos, quanto a matriz de confusão foi bem ao acertar 20629 clientes pagadores, um bom desempenho, mas foi infeliz em errar 7319 clientes prevendo que não pagariam seus empréstimos, ocasionando prejuizo em fazer o banco dispensar esses clientes, novamente, este modelo não atingiu o objetio esperado deste projeto, outra forma que esse modelo poderia trazer prejuizo ao banco é na hora de constatar 1497 clientes bons pagadores, mas não sendo, por fim acertou 715 clientes inadimplentes."
   ]
  },
  {
   "cell_type": "markdown",
   "id": "4bc17726-c411-408d-aa9c-605a056f15f6",
   "metadata": {},
   "source": [
    "## Conclusão\n",
    "\n",
    "- Na necessidade, o modelo que poderia ser usado para nosso objetivo de dar oportunidade a clientes que são considerados inadimplentes, porém não são. é O Randon Forest, que acertou a grande quantidade de clientes adimplentes e em comparação aos outros modelos, errou 1956 clientes, contra 10027 da Regressão Logistica e 7319 da Arvore de decisão.\n",
    "\n",
    "- De qualquer forma, estes modelos apresentados necessitam de ajustes e melhorias em seua parametros, pois existe muito espaço para melhorar, infelizmente, devido ao tempo, ficará para a próxima."
   ]
  },
  {
   "cell_type": "code",
   "execution_count": null,
   "id": "6fa2b34f-434b-49de-a0b1-02876e462965",
   "metadata": {},
   "outputs": [],
   "source": []
  }
 ],
 "metadata": {
  "kernelspec": {
   "display_name": "Python 3 (ipykernel)",
   "language": "python",
   "name": "python3"
  },
  "language_info": {
   "codemirror_mode": {
    "name": "ipython",
    "version": 3
   },
   "file_extension": ".py",
   "mimetype": "text/x-python",
   "name": "python",
   "nbconvert_exporter": "python",
   "pygments_lexer": "ipython3",
   "version": "3.11.9"
  }
 },
 "nbformat": 4,
 "nbformat_minor": 5
}
